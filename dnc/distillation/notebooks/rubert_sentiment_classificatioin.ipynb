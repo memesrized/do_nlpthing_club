{
 "cells": [
  {
   "cell_type": "code",
   "execution_count": null,
   "id": "22e52ca4",
   "metadata": {},
   "outputs": [],
   "source": [
    "import json\n",
    "import logging\n",
    "import os\n",
    "import typing\n",
    "\n",
    "_log_format = (\n",
    "    '{\"time\":\"%(asctime)s\", \"name\": \"%(name)s\",'\n",
    "    ' \"file\": \"%(filename)s\", \"func\": \"%(funcName)s\", \"line\": %('\n",
    "    'lineno)d, \"level\": \"%(levelname)s\", \"message\": %(message)s}'\n",
    ")\n",
    "_datefmt = \"%d-%b-%y %H:%M:%S\"\n",
    "logger_level: str = os.getenv(\"LOGGING_LEVEL\", \"INFO\")\n",
    "    \n",
    "def _get_stream_handler() -> logging.StreamHandler:  # type: ignore\n",
    "    stream_handler = logging.StreamHandler()\n",
    "    stream_handler.setLevel(logger_level)\n",
    "    stream_handler.setFormatter(logging.Formatter(_log_format, _datefmt))\n",
    "    return stream_handler\n",
    "\n",
    "\n",
    "def get_logger(name: str) -> logging.Logger:\n",
    "    logger = logging.getLogger(name)\n",
    "    logger.setLevel(logger_level)\n",
    "    logger.addHandler(_get_stream_handler())\n",
    "    return logger\n",
    "\n",
    "\n",
    "def json_msg(msg: typing.Any) -> str:\n",
    "    return json.dumps(msg)\n",
    "\n",
    "logger = get_logger(\"note\")"
   ]
  },
  {
   "cell_type": "markdown",
   "id": "eb9cb2d8",
   "metadata": {},
   "source": [
    "## What to do\n",
    "\n",
    "1. LSTM student\n",
    "    1. get code from article\n",
    "    2. try your own model with fasttext embeddings for example\n",
    "2. small BERT student\n",
    "    1. remove next sentence predictions at all\n",
    "        for now they will be ignored\n",
    "    2. try to get weights from original bert\n",
    "    3. try to train from scratch\n",
    "    4. try to get another init waights\n",
    "    5. lottery tiket [hipothesis](https://arxiv.org/abs/1803.03635)"
   ]
  },
  {
   "cell_type": "code",
   "execution_count": 2,
   "id": "5c2b161c",
   "metadata": {},
   "outputs": [],
   "source": [
    "# from transformers import AutoModelForSequenceClassification, AutoTokenizer\n",
    "\n",
    "# model = AutoModelForSequenceClassification.from_pretrained(\"Tatyana/rubert-base-cased-sentiment-new\")\n",
    "# model.eval()\n",
    "# tokenizer = AutoTokenizer.from_pretrained(\"Tatyana/rubert-base-cased-sentiment-new\", return_tensors=\"pt\")\n",
    "\n",
    "# inp = tokenizer([\"привет что делаешь\"], return_tensors=\"pt\")\n",
    "# model(**inp)"
   ]
  },
  {
   "cell_type": "markdown",
   "id": "03841b9e",
   "metadata": {},
   "source": [
    "### Dataset"
   ]
  },
  {
   "cell_type": "code",
   "execution_count": 19,
   "id": "730de384",
   "metadata": {},
   "outputs": [],
   "source": [
    "# from datasets import load_dataset\n",
    "# df = load_dataset(\"Tatyana/ru_sentiment_dataset\")"
   ]
  },
  {
   "cell_type": "code",
   "execution_count": null,
   "id": "6faa73fa",
   "metadata": {},
   "outputs": [],
   "source": [
    "# 0: NEUTRAL\n",
    "# 1: POSITIVE\n",
    "# 2: NEGATIVE"
   ]
  },
  {
   "cell_type": "code",
   "execution_count": 5,
   "id": "e9a44553",
   "metadata": {},
   "outputs": [],
   "source": [
    "import pandas as pd\n",
    "import json\n",
    "from collections import Counter\n",
    "\n",
    "EMB_PATH = 'navec_hudlit_v1_12B_500K_300d_100q.tar'\n",
    "DF_PATH = \"train.csv\""
   ]
  },
  {
   "cell_type": "code",
   "execution_count": 42,
   "id": "b8723621",
   "metadata": {},
   "outputs": [
    {
     "ename": "NameError",
     "evalue": "name 'n' is not defined",
     "output_type": "error",
     "traceback": [
      "\u001b[1;31m---------------------------------------------------------------------------\u001b[0m",
      "\u001b[1;31mNameError\u001b[0m                                 Traceback (most recent call last)",
      "Cell \u001b[1;32mIn[42], line 5\u001b[0m\n\u001b[0;32m      1\u001b[0m df \u001b[38;5;241m=\u001b[39m pd\u001b[38;5;241m.\u001b[39mread_csv(DF_PATH)[[\u001b[38;5;124m'\u001b[39m\u001b[38;5;124mtext\u001b[39m\u001b[38;5;124m'\u001b[39m, \u001b[38;5;124m\"\u001b[39m\u001b[38;5;124msentiment\u001b[39m\u001b[38;5;124m\"\u001b[39m]]\n\u001b[0;32m      2\u001b[0m \u001b[38;5;66;03m#n = 30000\u001b[39;00m\n\u001b[0;32m      3\u001b[0m \u001b[38;5;66;03m#df = df[:n]\u001b[39;00m\n\u001b[1;32m----> 5\u001b[0m Counter(df[\u001b[38;5;124m'\u001b[39m\u001b[38;5;124msentiment\u001b[39m\u001b[38;5;124m'\u001b[39m][:\u001b[43mn\u001b[49m])\n",
      "\u001b[1;31mNameError\u001b[0m: name 'n' is not defined"
     ]
    }
   ],
   "source": [
    "df = pd.read_csv(DF_PATH)[['text', \"sentiment\"]]\n",
    "#n = 30000\n",
    "#df = df[:n]\n",
    "# Counter(df['sentiment'][:n])"
   ]
  },
  {
   "cell_type": "code",
   "execution_count": 7,
   "id": "b3d97aee",
   "metadata": {},
   "outputs": [],
   "source": [
    "import torch\n",
    "import numpy as np\n",
    "from navec import Navec\n",
    "from razdel import tokenize as razdel_tokenizer\n",
    "# from segtok.tokenizer import word_tokenizer\n",
    "\n",
    "class CustomEmbeddings:\n",
    "    def __init__(self, path, unk=\"<unk>\"):\n",
    "        self.emb = Navec.load(path)\n",
    "        self.unk = unk\n",
    "    \n",
    "    def _convert(self, list_):\n",
    "        \"\"\"UserWarning: Creating a tensor from a list\n",
    "        of numpy.ndarrays is extremely slow. \n",
    "        \n",
    "        Please consider converting the list to a single\n",
    "        numpy.ndarray with numpy.array() before converting to a tensor.\"\"\"\n",
    "        return torch.as_tensor(np.array(list_))\n",
    "    \n",
    "    def __call__(self, tokens):\n",
    "        return self._convert([self.emb.get(x, self.emb[self.unk]) for x in tokens])\n",
    "\n",
    "# TODO: rewrite with vocab when emb=None\n",
    "# TODO: rewrite to use it in collator\n",
    "class Tokenizer:\n",
    "    def __init__(self, emb, unk_token=\"<unk>\", pad_token=\"<pad>\"):\n",
    "        if not emb:\n",
    "            logger.warning(\"NO EMBEDDINGS!\")\n",
    "        self.emb = self._load_emb(emb)\n",
    "    \n",
    "    def tokenize(self, text):\n",
    "        return [_.text for _ in razdel_tokenizer(text)]\n",
    "    \n",
    "    def __call__(self, text):\n",
    "        return self.emb([_.text for _ in razdel_tokenizer(text)])\n",
    "    \n",
    "    def _load_emb(self, path):\n",
    "        return CustomEmbeddings(path)"
   ]
  },
  {
   "cell_type": "code",
   "execution_count": 8,
   "id": "23c2fc9a",
   "metadata": {},
   "outputs": [],
   "source": [
    "tokenizer = Tokenizer(EMB_PATH)"
   ]
  },
  {
   "cell_type": "code",
   "execution_count": 9,
   "id": "04d2189e",
   "metadata": {},
   "outputs": [
    {
     "data": {
      "text/plain": [
       "tensor([[-0.2056, -0.5172, -0.1197,  ..., -0.1694, -0.2201,  0.8499],\n",
       "        [-0.6365, -0.1460,  0.5631,  ..., -0.4420, -0.1768,  0.5108],\n",
       "        [ 0.0562, -0.4159, -0.0392,  ..., -0.0266, -0.1075,  0.5631],\n",
       "        [-0.2772, -0.3065,  0.2907,  ..., -0.4420, -0.1768,  0.5108]])"
      ]
     },
     "execution_count": 9,
     "metadata": {},
     "output_type": "execute_result"
    }
   ],
   "source": [
    "(tokenizer(\"какой-то текст на русском\"))"
   ]
  },
  {
   "cell_type": "code",
   "execution_count": 10,
   "id": "5e95651b",
   "metadata": {},
   "outputs": [],
   "source": [
    "from itertools import chain\n",
    "\n",
    "import pandas as pd\n",
    "import torch\n",
    "from tqdm import tqdm\n",
    "\n",
    "from torch.nn.utils.rnn import pad_sequence\n",
    "from torch.utils.data import Dataset, DataLoader\n",
    "from segtok.tokenizer import word_tokenizer\n",
    "\n",
    "\n",
    "class VocabDataset(Dataset):\n",
    "    def __init__(self, data_path, text_col=\"text\", target_col=\"sentiment\", tokenizer=None, pad_token=\"<PAD>\", unk_token=\"<UNK>\"):\n",
    "        X, y = zip(*pd.read_csv(data_path)[[text_col, target_col]].to_numpy())\n",
    "        \n",
    "        self.tokenizer = tokenizer or str.split\n",
    "\n",
    "        self.X = [self.tokenizer(x) for x in X]\n",
    "        self.y = y\n",
    "\n",
    "        self.vocab = dict([(x, i) for i, x in enumerate(set(chain.from_iterable(self.X)), start=1)])\n",
    "        self.vocab[pad_token] = 0\n",
    "        self.vocab[unk_token] = len(self.vocab)\n",
    "        self.vocab_len = len(self.vocab)\n",
    "\n",
    "        self.X = [self.vocab_encode(x) for x in self.X]\n",
    "\n",
    "    def vocab_encode(self, seq):\n",
    "        return torch.tensor([self.vocab[tok] for tok in seq])\n",
    "\n",
    "    def __getitem__(self, idx):\n",
    "        return self.X[idx], self.y[idx]\n",
    "    \n",
    "    def __len__(self):\n",
    "        return len(self.X)\n",
    "    \n",
    "class EmbDataset(Dataset):\n",
    "    def __init__(self, data_path, tokenizer, size=None, text_col=\"text\", target_col=\"sentiment\", mean=True):\n",
    "        self.X, self.y = zip(*pd.read_csv(data_path)[[text_col, target_col]][:size].to_numpy())\n",
    "        \n",
    "        self.tokenizer = tokenizer\n",
    "\n",
    "        self.X = [self.tokenizer(x) for x in tqdm(self.X)]\n",
    "        if mean:\n",
    "            self.X = [x.mean(0) for x in tqdm(self.X)]\n",
    "\n",
    "    def __getitem__(self, idx):\n",
    "        return self.X[idx], self.y[idx]\n",
    "    \n",
    "    def __len__(self):\n",
    "        return len(self.X)\n",
    "\n",
    "\n",
    "class Collator:\n",
    "    def __init__(self, pad_value=0):\n",
    "        pass\n",
    "\n",
    "    def __call__(self, batch):\n",
    "        feats, labels = zip(*batch)\n",
    "        lens = [len(x) for x in feats]\n",
    "        feats = pad_sequence(feats, batch_first=True)\n",
    "        return feats, torch.tensor(labels), lens"
   ]
  },
  {
   "cell_type": "code",
   "execution_count": 31,
   "id": "2051e5ad",
   "metadata": {},
   "outputs": [
    {
     "name": "stderr",
     "output_type": "stream",
     "text": [
      "100%|███████████████████████████████████████████████████████████████████████████| 50000/50000 [01:55<00:00, 431.70it/s]\n",
      "100%|█████████████████████████████████████████████████████████████████████████| 50000/50000 [00:02<00:00, 23142.87it/s]\n"
     ]
    }
   ],
   "source": [
    "dataset = EmbDataset(\"train.csv\", tokenizer, size=50000)\n",
    "\n",
    "dataloader = DataLoader(dataset, batch_size=4,\n",
    "                        shuffle=True, num_workers=0)\n",
    "#                         collate_fn=Collator())"
   ]
  },
  {
   "cell_type": "code",
   "execution_count": 32,
   "id": "490b302b",
   "metadata": {},
   "outputs": [],
   "source": [
    "# for x in dataset:\n",
    "#     print(x)\n",
    "#     break"
   ]
  },
  {
   "cell_type": "markdown",
   "id": "a6d3aaa3",
   "metadata": {},
   "source": [
    "### LinearModel"
   ]
  },
  {
   "cell_type": "code",
   "execution_count": 33,
   "id": "b2dca222",
   "metadata": {},
   "outputs": [],
   "source": [
    "from pathlib import Path\n",
    "from torch import nn\n",
    "from tqdm import tqdm\n",
    "from torch.nn import functional as F\n",
    "\n",
    "class MeanClassifier(nn.Module):\n",
    "    def __init__(self, vocab, emb_dim=256, hid_dim=512, num_classes=3):\n",
    "        super().__init__()\n",
    "        self.vocab = vocab\n",
    "        self.embed = nn.Embedding(len(self.vocab),\n",
    "                                  embedding_dim=emb_dim,\n",
    "                                  padding_idx=0)\n",
    "        self.linear_hid1 = nn.Linear(emb_dim, hid_dim)\n",
    "        self.linear_hid2 = nn.Linear(hid_dim, hid_dim)\n",
    "        self.linear_hid3 = nn.Linear(hid_dim, hid_dim)\n",
    "        self.linear_out = nn.Linear(hid_dim, num_classes)\n",
    "\n",
    "    def forward(self, x):\n",
    "        # TODO: batch_first=False\n",
    "        # TODO: weighted mean\n",
    "        x = torch.mean(self.embed(x), 1)\n",
    "        x = F.relu(self.linear_hid1(x))\n",
    "        x = F.relu(self.linear_hid2(x))\n",
    "        x = F.relu(self.linear_hid3(x))\n",
    "        return self.linear_out(x)\n",
    "\n",
    "    def save(self, folder):\n",
    "        folder = Path(folder).absolute()\n",
    "        folder.mkdir(parents=True, exist_ok=True)\n",
    "\n",
    "        with open(folder / \"vocab.json\", 'w') as file:\n",
    "            json.dump(self.vocab, file)\n",
    "\n",
    "        torch.save(self.state_dict(), folder / \"model.pt\")\n",
    "        \n",
    "class EmbClassifier(nn.Module):\n",
    "    def __init__(self, emb_dim=300, hid_dim=512, num_classes=3):\n",
    "        super().__init__()\n",
    "        self.linear_hid1 = nn.Linear(emb_dim, hid_dim)\n",
    "        self.linear_hid2 = nn.Linear(hid_dim, hid_dim)\n",
    "        self.linear_hid3 = nn.Linear(hid_dim, hid_dim)\n",
    "        self.linear_out = nn.Linear(hid_dim, num_classes)\n",
    "\n",
    "    def forward(self, x):\n",
    "        x = F.relu(self.linear_hid1(x))\n",
    "        x = F.relu(self.linear_hid2(x))\n",
    "        x = F.relu(self.linear_hid3(x))\n",
    "        return self.linear_out(x)\n",
    "\n",
    "    def save(self, folder):\n",
    "        folder = Path(folder).absolute()\n",
    "        folder.mkdir(parents=True, exist_ok=True)\n",
    "\n",
    "        torch.save(self.state_dict(), folder / \"model.pt\")"
   ]
  },
  {
   "cell_type": "code",
   "execution_count": 34,
   "id": "33f25c72",
   "metadata": {},
   "outputs": [
    {
     "name": "stdout",
     "output_type": "stream",
     "text": [
      "NVIDIA GeForce RTX 3070 Laptop GPU\n",
      "Memory Usage:\n",
      "Allocated: 0.0 GB\n",
      "Cached:    0.0 GB\n"
     ]
    }
   ],
   "source": [
    "device = \"cuda\" if torch.cuda.is_available() else \"cpu\"\n",
    "\n",
    "torch.cuda.empty_cache()\n",
    "\n",
    "if device == 'cuda':\n",
    "    print(torch.cuda.get_device_name(0))\n",
    "    print('Memory Usage:')\n",
    "    print('Allocated:', round(torch.cuda.memory_allocated(0)/1024**3,1), 'GB')\n",
    "    print('Cached:   ', round(torch.cuda.memory_reserved(0)/1024**3,1), 'GB')"
   ]
  },
  {
   "cell_type": "code",
   "execution_count": 35,
   "id": "645885c0",
   "metadata": {},
   "outputs": [],
   "source": [
    "model = EmbClassifier(emb_dim=300, hid_dim=512)\n",
    "model = model.to(device)\n",
    "\n",
    "n_epochs = 10\n",
    "lr=0.00001\n",
    "clip = 5\n",
    "\n",
    "criterion = nn.CrossEntropyLoss()\n",
    "optimizer = torch.optim.AdamW(model.parameters(), lr=lr)\n",
    "# optimizer = torch.optim.SGD(model.parameters(), momentum=0.9, lr=lr)\n",
    "\n",
    "# scheduler = torch.optim.lr_scheduler.OneCycleLR(optimizer, max_lr=lr,\n",
    "#                                                 steps_per_epoch=len(dataloader), epochs=n_epochs)\n"
   ]
  },
  {
   "cell_type": "code",
   "execution_count": 36,
   "id": "e3c148ba",
   "metadata": {
    "scrolled": true
   },
   "outputs": [
    {
     "name": "stderr",
     "output_type": "stream",
     "text": [
      "  0%|                                                                              | 19/12500 [00:00<01:06, 186.68it/s]"
     ]
    },
    {
     "name": "stdout",
     "output_type": "stream",
     "text": [
      "Batch_100: 0/32............. Loss: 1.1145\n"
     ]
    },
    {
     "name": "stderr",
     "output_type": "stream",
     "text": [
      "  4%|██▋                                                                          | 438/12500 [00:01<00:36, 327.71it/s]"
     ]
    },
    {
     "name": "stdout",
     "output_type": "stream",
     "text": [
      "Batch_100: 1/32............. Loss: 1.0691\n"
     ]
    },
    {
     "name": "stderr",
     "output_type": "stream",
     "text": [
      "  7%|█████▎                                                                       | 865/12500 [00:02<00:36, 314.67it/s]"
     ]
    },
    {
     "name": "stdout",
     "output_type": "stream",
     "text": [
      "Batch_100: 2/32............. Loss: 0.9433\n"
     ]
    },
    {
     "name": "stderr",
     "output_type": "stream",
     "text": [
      " 10%|███████▋                                                                    | 1272/12500 [00:04<00:34, 325.03it/s]"
     ]
    },
    {
     "name": "stdout",
     "output_type": "stream",
     "text": [
      "Batch_100: 3/32............. Loss: 1.1589\n"
     ]
    },
    {
     "name": "stderr",
     "output_type": "stream",
     "text": [
      " 13%|█████████▉                                                                  | 1639/12500 [00:05<00:35, 302.83it/s]"
     ]
    },
    {
     "name": "stdout",
     "output_type": "stream",
     "text": [
      "Batch_100: 4/32............. Loss: 1.0023\n"
     ]
    },
    {
     "name": "stderr",
     "output_type": "stream",
     "text": [
      " 16%|████████████▍                                                               | 2055/12500 [00:06<00:33, 308.09it/s]"
     ]
    },
    {
     "name": "stdout",
     "output_type": "stream",
     "text": [
      "Batch_100: 5/32............. Loss: 0.7820\n"
     ]
    },
    {
     "name": "stderr",
     "output_type": "stream",
     "text": [
      " 20%|██████████████▉                                                             | 2452/12500 [00:07<00:31, 321.01it/s]"
     ]
    },
    {
     "name": "stdout",
     "output_type": "stream",
     "text": [
      "Batch_100: 6/32............. Loss: 0.7606\n"
     ]
    },
    {
     "name": "stderr",
     "output_type": "stream",
     "text": [
      " 23%|█████████████████▎                                                          | 2853/12500 [00:09<00:30, 315.93it/s]"
     ]
    },
    {
     "name": "stdout",
     "output_type": "stream",
     "text": [
      "Batch_100: 7/32............. Loss: 0.9487\n"
     ]
    },
    {
     "name": "stderr",
     "output_type": "stream",
     "text": [
      " 26%|███████████████████▊                                                        | 3260/12500 [00:10<00:29, 317.15it/s]"
     ]
    },
    {
     "name": "stdout",
     "output_type": "stream",
     "text": [
      "Batch_100: 8/32............. Loss: 1.0432\n"
     ]
    },
    {
     "name": "stderr",
     "output_type": "stream",
     "text": [
      " 29%|██████████████████████▏                                                     | 3658/12500 [00:11<00:26, 329.59it/s]"
     ]
    },
    {
     "name": "stdout",
     "output_type": "stream",
     "text": [
      "Batch_100: 9/32............. Loss: 0.6526\n"
     ]
    },
    {
     "name": "stderr",
     "output_type": "stream",
     "text": [
      " 32%|████████████████████████▍                                                   | 4029/12500 [00:12<00:26, 315.97it/s]"
     ]
    },
    {
     "name": "stdout",
     "output_type": "stream",
     "text": [
      "Batch_100: 10/32............. Loss: 0.8878\n"
     ]
    },
    {
     "name": "stderr",
     "output_type": "stream",
     "text": [
      " 36%|███████████████████████████                                                 | 4448/12500 [00:14<00:25, 316.50it/s]"
     ]
    },
    {
     "name": "stdout",
     "output_type": "stream",
     "text": [
      "Batch_100: 11/32............. Loss: 0.6938\n"
     ]
    },
    {
     "name": "stderr",
     "output_type": "stream",
     "text": [
      " 39%|█████████████████████████████▍                                              | 4841/12500 [00:15<00:22, 333.32it/s]"
     ]
    },
    {
     "name": "stdout",
     "output_type": "stream",
     "text": [
      "Batch_100: 12/32............. Loss: 0.9212\n"
     ]
    },
    {
     "name": "stderr",
     "output_type": "stream",
     "text": [
      " 42%|███████████████████████████████▉                                            | 5251/12500 [00:16<00:22, 315.84it/s]"
     ]
    },
    {
     "name": "stdout",
     "output_type": "stream",
     "text": [
      "Batch_100: 13/32............. Loss: 0.8649\n"
     ]
    },
    {
     "name": "stderr",
     "output_type": "stream",
     "text": [
      " 45%|██████████████████████████████████▎                                         | 5650/12500 [00:17<00:21, 311.59it/s]"
     ]
    },
    {
     "name": "stdout",
     "output_type": "stream",
     "text": [
      "Batch_100: 14/32............. Loss: 0.6718\n"
     ]
    },
    {
     "name": "stderr",
     "output_type": "stream",
     "text": [
      " 48%|████████████████████████████████████▊                                       | 6054/12500 [00:19<00:20, 322.23it/s]"
     ]
    },
    {
     "name": "stdout",
     "output_type": "stream",
     "text": [
      "Batch_100: 15/32............. Loss: 0.5682\n"
     ]
    },
    {
     "name": "stderr",
     "output_type": "stream",
     "text": [
      " 52%|███████████████████████████████████████▏                                    | 6446/12500 [00:20<00:19, 311.64it/s]"
     ]
    },
    {
     "name": "stdout",
     "output_type": "stream",
     "text": [
      "Batch_100: 16/32............. Loss: 0.6285\n"
     ]
    },
    {
     "name": "stderr",
     "output_type": "stream",
     "text": [
      " 55%|█████████████████████████████████████████▌                                  | 6840/12500 [00:21<00:17, 315.25it/s]"
     ]
    },
    {
     "name": "stdout",
     "output_type": "stream",
     "text": [
      "Batch_100: 17/32............. Loss: 0.7844\n"
     ]
    },
    {
     "name": "stderr",
     "output_type": "stream",
     "text": [
      " 58%|███████████████████████████████████████████▉                                | 7231/12500 [00:22<00:16, 314.87it/s]"
     ]
    },
    {
     "name": "stdout",
     "output_type": "stream",
     "text": [
      "Batch_100: 18/32............. Loss: 0.5377\n"
     ]
    },
    {
     "name": "stderr",
     "output_type": "stream",
     "text": [
      " 61%|██████████████████████████████████████████████▍                             | 7633/12500 [00:24<00:14, 331.69it/s]"
     ]
    },
    {
     "name": "stdout",
     "output_type": "stream",
     "text": [
      "Batch_100: 19/32............. Loss: 0.8479\n"
     ]
    },
    {
     "name": "stderr",
     "output_type": "stream",
     "text": [
      " 64%|████████████████████████████████████████████████▉                           | 8040/12500 [00:25<00:13, 327.35it/s]"
     ]
    },
    {
     "name": "stdout",
     "output_type": "stream",
     "text": [
      "Batch_100: 20/32............. Loss: 0.6084\n"
     ]
    },
    {
     "name": "stderr",
     "output_type": "stream",
     "text": [
      " 68%|███████████████████████████████████████████████████▍                        | 8462/12500 [00:26<00:12, 318.11it/s]"
     ]
    },
    {
     "name": "stdout",
     "output_type": "stream",
     "text": [
      "Batch_100: 21/32............. Loss: 0.6297\n"
     ]
    },
    {
     "name": "stderr",
     "output_type": "stream",
     "text": [
      " 71%|█████████████████████████████████████████████████████▊                      | 8858/12500 [00:28<00:11, 317.70it/s]"
     ]
    },
    {
     "name": "stdout",
     "output_type": "stream",
     "text": [
      "Batch_100: 22/32............. Loss: 0.6456\n"
     ]
    },
    {
     "name": "stderr",
     "output_type": "stream",
     "text": [
      " 74%|████████████████████████████████████████████████████████▏                   | 9243/12500 [00:29<00:10, 297.32it/s]"
     ]
    },
    {
     "name": "stdout",
     "output_type": "stream",
     "text": [
      "Batch_100: 23/32............. Loss: 0.8606\n"
     ]
    },
    {
     "name": "stderr",
     "output_type": "stream",
     "text": [
      " 77%|██████████████████████████████████████████████████████████▊                 | 9669/12500 [00:30<00:09, 309.98it/s]"
     ]
    },
    {
     "name": "stdout",
     "output_type": "stream",
     "text": [
      "Batch_100: 24/32............. Loss: 0.5486\n"
     ]
    },
    {
     "name": "stderr",
     "output_type": "stream",
     "text": [
      " 80%|████████████████████████████████████████████████████████████▎              | 10058/12500 [00:31<00:07, 308.09it/s]"
     ]
    },
    {
     "name": "stdout",
     "output_type": "stream",
     "text": [
      "Batch_100: 25/32............. Loss: 0.8658\n"
     ]
    },
    {
     "name": "stderr",
     "output_type": "stream",
     "text": [
      " 84%|██████████████████████████████████████████████████████████████▋            | 10452/12500 [00:33<00:06, 307.77it/s]"
     ]
    },
    {
     "name": "stdout",
     "output_type": "stream",
     "text": [
      "Batch_100: 26/32............. Loss: 0.5566\n"
     ]
    },
    {
     "name": "stderr",
     "output_type": "stream",
     "text": [
      " 87%|█████████████████████████████████████████████████████████████████          | 10845/12500 [00:34<00:05, 308.03it/s]"
     ]
    },
    {
     "name": "stdout",
     "output_type": "stream",
     "text": [
      "Batch_100: 27/32............. Loss: 0.5003\n"
     ]
    },
    {
     "name": "stderr",
     "output_type": "stream",
     "text": [
      " 90%|███████████████████████████████████████████████████████████████████▍       | 11232/12500 [00:35<00:04, 310.99it/s]"
     ]
    },
    {
     "name": "stdout",
     "output_type": "stream",
     "text": [
      "Batch_100: 28/32............. Loss: 1.1764\n"
     ]
    },
    {
     "name": "stderr",
     "output_type": "stream",
     "text": [
      " 93%|█████████████████████████████████████████████████████████████████████▉     | 11651/12500 [00:37<00:02, 302.99it/s]"
     ]
    },
    {
     "name": "stdout",
     "output_type": "stream",
     "text": [
      "Batch_100: 29/32............. Loss: 0.5147\n"
     ]
    },
    {
     "name": "stderr",
     "output_type": "stream",
     "text": [
      " 96%|████████████████████████████████████████████████████████████████████████▏  | 12031/12500 [00:38<00:01, 302.28it/s]"
     ]
    },
    {
     "name": "stdout",
     "output_type": "stream",
     "text": [
      "Batch_100: 30/32............. Loss: 0.4587\n"
     ]
    },
    {
     "name": "stderr",
     "output_type": "stream",
     "text": [
      " 99%|██████████████████████████████████████████████████████████████████████████▌| 12427/12500 [00:39<00:00, 317.71it/s]"
     ]
    },
    {
     "name": "stdout",
     "output_type": "stream",
     "text": [
      "Batch_100: 31/32............. Loss: 0.2953\n"
     ]
    },
    {
     "name": "stderr",
     "output_type": "stream",
     "text": [
      "100%|███████████████████████████████████████████████████████████████████████████| 12500/12500 [00:39<00:00, 313.65it/s]\n",
      "  0%|▏                                                                             | 31/12500 [00:00<00:41, 303.18it/s]"
     ]
    },
    {
     "name": "stdout",
     "output_type": "stream",
     "text": [
      "Batch_100: 0/32............. Loss: 0.6724\n"
     ]
    },
    {
     "name": "stderr",
     "output_type": "stream",
     "text": [
      "  4%|██▊                                                                          | 460/12500 [00:01<00:37, 320.53it/s]"
     ]
    },
    {
     "name": "stdout",
     "output_type": "stream",
     "text": [
      "Batch_100: 1/32............. Loss: 1.2180\n"
     ]
    },
    {
     "name": "stderr",
     "output_type": "stream",
     "text": [
      "  7%|█████▎                                                                       | 856/12500 [00:02<00:36, 318.92it/s]"
     ]
    },
    {
     "name": "stdout",
     "output_type": "stream",
     "text": [
      "Batch_100: 2/32............. Loss: 0.8767\n"
     ]
    },
    {
     "name": "stderr",
     "output_type": "stream",
     "text": [
      " 10%|███████▌                                                                    | 1253/12500 [00:03<00:36, 311.63it/s]"
     ]
    },
    {
     "name": "stdout",
     "output_type": "stream",
     "text": [
      "Batch_100: 3/32............. Loss: 1.6590\n"
     ]
    },
    {
     "name": "stderr",
     "output_type": "stream",
     "text": [
      " 13%|██████████                                                                  | 1650/12500 [00:05<00:34, 315.38it/s]"
     ]
    },
    {
     "name": "stdout",
     "output_type": "stream",
     "text": [
      "Batch_100: 4/32............. Loss: 1.0026\n"
     ]
    },
    {
     "name": "stderr",
     "output_type": "stream",
     "text": [
      " 16%|████████████▍                                                               | 2047/12500 [00:06<00:32, 320.25it/s]"
     ]
    },
    {
     "name": "stdout",
     "output_type": "stream",
     "text": [
      "Batch_100: 5/32............. Loss: 0.7726\n"
     ]
    },
    {
     "name": "stderr",
     "output_type": "stream",
     "text": [
      " 19%|██████████████▊                                                             | 2436/12500 [00:07<00:32, 313.95it/s]"
     ]
    },
    {
     "name": "stdout",
     "output_type": "stream",
     "text": [
      "Batch_100: 6/32............. Loss: 0.3181\n"
     ]
    },
    {
     "name": "stderr",
     "output_type": "stream",
     "text": [
      " 23%|█████████████████▍                                                          | 2864/12500 [00:09<00:31, 309.73it/s]"
     ]
    },
    {
     "name": "stdout",
     "output_type": "stream",
     "text": [
      "Batch_100: 7/32............. Loss: 0.6046\n"
     ]
    },
    {
     "name": "stderr",
     "output_type": "stream",
     "text": [
      " 26%|███████████████████▊                                                        | 3267/12500 [00:10<00:27, 333.75it/s]"
     ]
    },
    {
     "name": "stdout",
     "output_type": "stream",
     "text": [
      "Batch_100: 8/32............. Loss: 0.9549\n"
     ]
    },
    {
     "name": "stderr",
     "output_type": "stream",
     "text": [
      " 29%|██████████████████████                                                      | 3631/12500 [00:11<00:27, 318.07it/s]"
     ]
    },
    {
     "name": "stdout",
     "output_type": "stream",
     "text": [
      "Batch_100: 9/32............. Loss: 0.5891\n"
     ]
    },
    {
     "name": "stderr",
     "output_type": "stream",
     "text": [
      " 32%|████████████████████████▋                                                   | 4062/12500 [00:12<00:26, 319.93it/s]"
     ]
    },
    {
     "name": "stdout",
     "output_type": "stream",
     "text": [
      "Batch_100: 10/32............. Loss: 0.8017\n"
     ]
    },
    {
     "name": "stderr",
     "output_type": "stream",
     "text": [
      " 36%|███████████████████████████                                                 | 4458/12500 [00:14<00:24, 327.21it/s]"
     ]
    },
    {
     "name": "stdout",
     "output_type": "stream",
     "text": [
      "Batch_100: 11/32............. Loss: 0.8151\n"
     ]
    },
    {
     "name": "stderr",
     "output_type": "stream",
     "text": [
      " 39%|█████████████████████████████▌                                              | 4860/12500 [00:15<00:23, 319.96it/s]"
     ]
    },
    {
     "name": "stdout",
     "output_type": "stream",
     "text": [
      "Batch_100: 12/32............. Loss: 1.1421\n"
     ]
    },
    {
     "name": "stderr",
     "output_type": "stream",
     "text": [
      " 42%|███████████████████████████████▉                                            | 5260/12500 [00:16<00:22, 323.81it/s]"
     ]
    },
    {
     "name": "stdout",
     "output_type": "stream",
     "text": [
      "Batch_100: 13/32............. Loss: 0.8215\n"
     ]
    },
    {
     "name": "stderr",
     "output_type": "stream",
     "text": [
      " 45%|██████████████████████████████████▍                                         | 5659/12500 [00:17<00:22, 310.60it/s]"
     ]
    },
    {
     "name": "stdout",
     "output_type": "stream",
     "text": [
      "Batch_100: 14/32............. Loss: 0.6957\n"
     ]
    },
    {
     "name": "stderr",
     "output_type": "stream",
     "text": [
      " 49%|████████████████████████████████████▉                                       | 6065/12500 [00:19<00:19, 331.39it/s]"
     ]
    },
    {
     "name": "stdout",
     "output_type": "stream",
     "text": [
      "Batch_100: 15/32............. Loss: 0.4572\n"
     ]
    },
    {
     "name": "stderr",
     "output_type": "stream",
     "text": [
      " 52%|███████████████████████████████████████▏                                    | 6443/12500 [00:20<00:18, 334.21it/s]"
     ]
    },
    {
     "name": "stdout",
     "output_type": "stream",
     "text": [
      "Batch_100: 16/32............. Loss: 0.5229\n"
     ]
    },
    {
     "name": "stderr",
     "output_type": "stream",
     "text": [
      " 55%|█████████████████████████████████████████▌                                  | 6841/12500 [00:21<00:17, 314.96it/s]"
     ]
    },
    {
     "name": "stdout",
     "output_type": "stream",
     "text": [
      "Batch_100: 17/32............. Loss: 0.5810\n"
     ]
    },
    {
     "name": "stderr",
     "output_type": "stream",
     "text": [
      " 58%|████████████████████████████████████████████                                | 7247/12500 [00:22<00:16, 328.10it/s]"
     ]
    },
    {
     "name": "stdout",
     "output_type": "stream",
     "text": [
      "Batch_100: 18/32............. Loss: 1.3977\n"
     ]
    },
    {
     "name": "stderr",
     "output_type": "stream",
     "text": [
      " 61%|██████████████████████████████████████████████▍                             | 7636/12500 [00:24<00:15, 313.79it/s]"
     ]
    },
    {
     "name": "stdout",
     "output_type": "stream",
     "text": [
      "Batch_100: 19/32............. Loss: 0.5716\n"
     ]
    },
    {
     "name": "stderr",
     "output_type": "stream",
     "text": [
      " 64%|████████████████████████████████████████████████▊                           | 8037/12500 [00:25<00:13, 327.19it/s]"
     ]
    },
    {
     "name": "stdout",
     "output_type": "stream",
     "text": [
      "Batch_100: 20/32............. Loss: 0.7481\n"
     ]
    },
    {
     "name": "stderr",
     "output_type": "stream",
     "text": [
      " 68%|███████████████████████████████████████████████████▎                        | 8447/12500 [00:26<00:11, 338.18it/s]"
     ]
    },
    {
     "name": "stdout",
     "output_type": "stream",
     "text": [
      "Batch_100: 21/32............. Loss: 0.6099\n"
     ]
    },
    {
     "name": "stderr",
     "output_type": "stream",
     "text": [
      " 71%|█████████████████████████████████████████████████████▊                      | 8844/12500 [00:27<00:11, 313.27it/s]"
     ]
    },
    {
     "name": "stdout",
     "output_type": "stream",
     "text": [
      "Batch_100: 22/32............. Loss: 0.0989\n"
     ]
    },
    {
     "name": "stderr",
     "output_type": "stream",
     "text": [
      " 74%|████████████████████████████████████████████████████████▏                   | 9235/12500 [00:29<00:10, 312.15it/s]"
     ]
    },
    {
     "name": "stdout",
     "output_type": "stream",
     "text": [
      "Batch_100: 23/32............. Loss: 2.1263\n"
     ]
    },
    {
     "name": "stderr",
     "output_type": "stream",
     "text": [
      " 77%|██████████████████████████████████████████████████████████▋                 | 9661/12500 [00:30<00:08, 321.73it/s]"
     ]
    },
    {
     "name": "stdout",
     "output_type": "stream",
     "text": [
      "Batch_100: 24/32............. Loss: 1.0938\n"
     ]
    },
    {
     "name": "stderr",
     "output_type": "stream",
     "text": [
      " 80%|████████████████████████████████████████████████████████████▎              | 10059/12500 [00:31<00:07, 319.34it/s]"
     ]
    },
    {
     "name": "stdout",
     "output_type": "stream",
     "text": [
      "Batch_100: 25/32............. Loss: 0.9761\n"
     ]
    },
    {
     "name": "stderr",
     "output_type": "stream",
     "text": [
      " 84%|██████████████████████████████████████████████████████████████▋            | 10454/12500 [00:32<00:06, 323.52it/s]"
     ]
    },
    {
     "name": "stdout",
     "output_type": "stream",
     "text": [
      "Batch_100: 26/32............. Loss: 0.8589\n"
     ]
    },
    {
     "name": "stderr",
     "output_type": "stream",
     "text": [
      " 87%|█████████████████████████████████████████████████████████████████▏         | 10855/12500 [00:34<00:05, 318.61it/s]"
     ]
    },
    {
     "name": "stdout",
     "output_type": "stream",
     "text": [
      "Batch_100: 27/32............. Loss: 1.1425\n"
     ]
    },
    {
     "name": "stderr",
     "output_type": "stream",
     "text": [
      " 90%|███████████████████████████████████████████████████████████████████▍       | 11247/12500 [00:35<00:03, 323.66it/s]"
     ]
    },
    {
     "name": "stdout",
     "output_type": "stream",
     "text": [
      "Batch_100: 28/32............. Loss: 0.8598\n"
     ]
    },
    {
     "name": "stderr",
     "output_type": "stream",
     "text": [
      " 93%|█████████████████████████████████████████████████████████████████████▉     | 11647/12500 [00:36<00:02, 314.37it/s]"
     ]
    },
    {
     "name": "stdout",
     "output_type": "stream",
     "text": [
      "Batch_100: 29/32............. Loss: 0.8740\n"
     ]
    },
    {
     "name": "stderr",
     "output_type": "stream",
     "text": [
      " 96%|████████████████████████████████████████████████████████████████████████▎  | 12042/12500 [00:37<00:01, 309.79it/s]"
     ]
    },
    {
     "name": "stdout",
     "output_type": "stream",
     "text": [
      "Batch_100: 30/32............. Loss: 1.0340\n"
     ]
    },
    {
     "name": "stderr",
     "output_type": "stream",
     "text": [
      "100%|██████████████████████████████████████████████████████████████████████████▊| 12459/12500 [00:39<00:00, 304.90it/s]"
     ]
    },
    {
     "name": "stdout",
     "output_type": "stream",
     "text": [
      "Batch_100: 31/32............. Loss: 0.9141\n"
     ]
    },
    {
     "name": "stderr",
     "output_type": "stream",
     "text": [
      "100%|███████████████████████████████████████████████████████████████████████████| 12500/12500 [00:39<00:00, 317.28it/s]\n",
      "  0%|▎                                                                             | 56/12500 [00:00<00:44, 278.37it/s]"
     ]
    },
    {
     "name": "stdout",
     "output_type": "stream",
     "text": [
      "Batch_100: 0/32............. Loss: 0.2738\n"
     ]
    },
    {
     "name": "stderr",
     "output_type": "stream",
     "text": [
      "  4%|██▊                                                                          | 452/12500 [00:01<00:38, 314.62it/s]"
     ]
    },
    {
     "name": "stdout",
     "output_type": "stream",
     "text": [
      "Batch_100: 1/32............. Loss: 0.7256\n"
     ]
    },
    {
     "name": "stderr",
     "output_type": "stream",
     "text": [
      "  7%|█████▏                                                                       | 852/12500 [00:02<00:35, 327.80it/s]"
     ]
    },
    {
     "name": "stdout",
     "output_type": "stream",
     "text": [
      "Batch_100: 2/32............. Loss: 0.4922\n"
     ]
    },
    {
     "name": "stderr",
     "output_type": "stream",
     "text": [
      " 10%|███████▋                                                                    | 1258/12500 [00:03<00:34, 322.21it/s]"
     ]
    },
    {
     "name": "stdout",
     "output_type": "stream",
     "text": [
      "Batch_100: 3/32............. Loss: 1.0649\n"
     ]
    },
    {
     "name": "stderr",
     "output_type": "stream",
     "text": [
      " 13%|██████████                                                                  | 1662/12500 [00:05<00:35, 304.95it/s]"
     ]
    },
    {
     "name": "stdout",
     "output_type": "stream",
     "text": [
      "Batch_100: 4/32............. Loss: 0.5152\n"
     ]
    },
    {
     "name": "stderr",
     "output_type": "stream",
     "text": [
      " 16%|████████████▎                                                               | 2027/12500 [00:06<00:32, 319.56it/s]"
     ]
    },
    {
     "name": "stdout",
     "output_type": "stream",
     "text": [
      "Batch_100: 5/32............. Loss: 0.5490\n"
     ]
    },
    {
     "name": "stderr",
     "output_type": "stream",
     "text": [
      " 20%|██████████████▉                                                             | 2463/12500 [00:07<00:32, 310.70it/s]"
     ]
    },
    {
     "name": "stdout",
     "output_type": "stream",
     "text": [
      "Batch_100: 6/32............. Loss: 1.2433\n"
     ]
    },
    {
     "name": "stderr",
     "output_type": "stream",
     "text": [
      " 23%|█████████████████▎                                                          | 2850/12500 [00:08<00:30, 315.37it/s]"
     ]
    },
    {
     "name": "stdout",
     "output_type": "stream",
     "text": [
      "Batch_100: 7/32............. Loss: 1.2651\n"
     ]
    },
    {
     "name": "stderr",
     "output_type": "stream",
     "text": [
      " 26%|███████████████████▋                                                        | 3242/12500 [00:10<00:30, 302.27it/s]"
     ]
    },
    {
     "name": "stdout",
     "output_type": "stream",
     "text": [
      "Batch_100: 8/32............. Loss: 0.6195\n"
     ]
    },
    {
     "name": "stderr",
     "output_type": "stream",
     "text": [
      " 29%|██████████████████████▎                                                     | 3669/12500 [00:11<00:26, 330.67it/s]"
     ]
    },
    {
     "name": "stdout",
     "output_type": "stream",
     "text": [
      "Batch_100: 9/32............. Loss: 0.3590\n"
     ]
    },
    {
     "name": "stderr",
     "output_type": "stream",
     "text": [
      " 32%|████████████████████████▌                                                   | 4037/12500 [00:12<00:26, 319.80it/s]"
     ]
    },
    {
     "name": "stdout",
     "output_type": "stream",
     "text": [
      "Batch_100: 10/32............. Loss: 0.6953\n"
     ]
    },
    {
     "name": "stderr",
     "output_type": "stream",
     "text": [
      " 35%|██████████████████████████▉                                                 | 4437/12500 [00:13<00:25, 317.98it/s]"
     ]
    },
    {
     "name": "stdout",
     "output_type": "stream",
     "text": [
      "Batch_100: 11/32............. Loss: 0.9785\n"
     ]
    },
    {
     "name": "stderr",
     "output_type": "stream",
     "text": [
      " 39%|█████████████████████████████▍                                              | 4845/12500 [00:15<00:23, 330.55it/s]"
     ]
    },
    {
     "name": "stdout",
     "output_type": "stream",
     "text": [
      "Batch_100: 12/32............. Loss: 0.6110\n"
     ]
    },
    {
     "name": "stderr",
     "output_type": "stream",
     "text": [
      " 42%|███████████████████████████████▉                                            | 5244/12500 [00:16<00:22, 327.36it/s]"
     ]
    },
    {
     "name": "stdout",
     "output_type": "stream",
     "text": [
      "Batch_100: 13/32............. Loss: 0.6810\n"
     ]
    },
    {
     "name": "stderr",
     "output_type": "stream",
     "text": [
      " 45%|██████████████████████████████████▍                                         | 5662/12500 [00:17<00:21, 315.24it/s]"
     ]
    },
    {
     "name": "stdout",
     "output_type": "stream",
     "text": [
      "Batch_100: 14/32............. Loss: 0.9401\n"
     ]
    },
    {
     "name": "stderr",
     "output_type": "stream",
     "text": [
      " 48%|████████████████████████████████████▊                                       | 6062/12500 [00:19<00:19, 322.48it/s]"
     ]
    },
    {
     "name": "stdout",
     "output_type": "stream",
     "text": [
      "Batch_100: 15/32............. Loss: 0.6774\n"
     ]
    },
    {
     "name": "stderr",
     "output_type": "stream",
     "text": [
      " 51%|███████████████████████████████████████                                     | 6428/12500 [00:20<00:19, 314.01it/s]"
     ]
    },
    {
     "name": "stdout",
     "output_type": "stream",
     "text": [
      "Batch_100: 16/32............. Loss: 1.2534\n"
     ]
    },
    {
     "name": "stderr",
     "output_type": "stream",
     "text": [
      " 55%|█████████████████████████████████████████▋                                  | 6854/12500 [00:21<00:17, 316.38it/s]"
     ]
    },
    {
     "name": "stdout",
     "output_type": "stream",
     "text": [
      "Batch_100: 17/32............. Loss: 0.3845\n"
     ]
    },
    {
     "name": "stderr",
     "output_type": "stream",
     "text": [
      " 58%|████████████████████████████████████████████▏                               | 7262/12500 [00:22<00:16, 319.68it/s]"
     ]
    },
    {
     "name": "stdout",
     "output_type": "stream",
     "text": [
      "Batch_100: 18/32............. Loss: 0.4248\n"
     ]
    },
    {
     "name": "stderr",
     "output_type": "stream",
     "text": [
      " 61%|██████████████████████████████████████████████▌                             | 7662/12500 [00:24<00:15, 321.86it/s]"
     ]
    },
    {
     "name": "stdout",
     "output_type": "stream",
     "text": [
      "Batch_100: 19/32............. Loss: 0.9822\n"
     ]
    },
    {
     "name": "stderr",
     "output_type": "stream",
     "text": [
      " 64%|████████████████████████████████████████████████▉                           | 8052/12500 [00:25<00:14, 316.70it/s]"
     ]
    },
    {
     "name": "stdout",
     "output_type": "stream",
     "text": [
      "Batch_100: 20/32............. Loss: 0.2984\n"
     ]
    },
    {
     "name": "stderr",
     "output_type": "stream",
     "text": [
      " 68%|███████████████████████████████████████████████████▍                        | 8459/12500 [00:26<00:12, 332.87it/s]"
     ]
    },
    {
     "name": "stdout",
     "output_type": "stream",
     "text": [
      "Batch_100: 21/32............. Loss: 0.1564\n"
     ]
    },
    {
     "name": "stderr",
     "output_type": "stream",
     "text": [
      " 71%|█████████████████████████████████████████████████████▊                      | 8852/12500 [00:27<00:11, 320.30it/s]"
     ]
    },
    {
     "name": "stdout",
     "output_type": "stream",
     "text": [
      "Batch_100: 22/32............. Loss: 0.3545\n"
     ]
    },
    {
     "name": "stderr",
     "output_type": "stream",
     "text": [
      " 74%|████████████████████████████████████████████████████████▎                   | 9256/12500 [00:29<00:09, 325.94it/s]"
     ]
    },
    {
     "name": "stdout",
     "output_type": "stream",
     "text": [
      "Batch_100: 23/32............. Loss: 0.3184\n"
     ]
    },
    {
     "name": "stderr",
     "output_type": "stream",
     "text": [
      " 77%|██████████████████████████████████████████████████████████▋                 | 9655/12500 [00:30<00:08, 323.41it/s]"
     ]
    },
    {
     "name": "stdout",
     "output_type": "stream",
     "text": [
      "Batch_100: 24/32............. Loss: 0.3440\n"
     ]
    },
    {
     "name": "stderr",
     "output_type": "stream",
     "text": [
      " 80%|████████████████████████████████████████████████████████████▎              | 10054/12500 [00:31<00:07, 324.23it/s]"
     ]
    },
    {
     "name": "stdout",
     "output_type": "stream",
     "text": [
      "Batch_100: 25/32............. Loss: 0.9560\n"
     ]
    },
    {
     "name": "stderr",
     "output_type": "stream",
     "text": [
      " 84%|██████████████████████████████████████████████████████████████▋            | 10453/12500 [00:32<00:06, 317.82it/s]"
     ]
    },
    {
     "name": "stdout",
     "output_type": "stream",
     "text": [
      "Batch_100: 26/32............. Loss: 0.5830\n"
     ]
    },
    {
     "name": "stderr",
     "output_type": "stream",
     "text": [
      " 87%|████████████████████████████████████████████████████████████████▉          | 10828/12500 [00:34<00:05, 313.38it/s]"
     ]
    },
    {
     "name": "stdout",
     "output_type": "stream",
     "text": [
      "Batch_100: 27/32............. Loss: 1.2087\n"
     ]
    },
    {
     "name": "stderr",
     "output_type": "stream",
     "text": [
      " 90%|███████████████████████████████████████████████████████████████████▌       | 11260/12500 [00:35<00:03, 327.22it/s]"
     ]
    },
    {
     "name": "stdout",
     "output_type": "stream",
     "text": [
      "Batch_100: 28/32............. Loss: 0.7106\n"
     ]
    },
    {
     "name": "stderr",
     "output_type": "stream",
     "text": [
      " 93%|█████████████████████████████████████████████████████████████████████▉     | 11658/12500 [00:36<00:02, 318.44it/s]"
     ]
    },
    {
     "name": "stdout",
     "output_type": "stream",
     "text": [
      "Batch_100: 29/32............. Loss: 0.7944\n"
     ]
    },
    {
     "name": "stderr",
     "output_type": "stream",
     "text": [
      " 96%|████████████████████████████████████████████████████████████████████████▎  | 12056/12500 [00:37<00:01, 320.13it/s]"
     ]
    },
    {
     "name": "stdout",
     "output_type": "stream",
     "text": [
      "Batch_100: 30/32............. Loss: 1.3693\n"
     ]
    },
    {
     "name": "stderr",
     "output_type": "stream",
     "text": [
      "100%|██████████████████████████████████████████████████████████████████████████▋| 12456/12500 [00:39<00:00, 314.05it/s]"
     ]
    },
    {
     "name": "stdout",
     "output_type": "stream",
     "text": [
      "Batch_100: 31/32............. Loss: 0.6911\n"
     ]
    },
    {
     "name": "stderr",
     "output_type": "stream",
     "text": [
      "100%|███████████████████████████████████████████████████████████████████████████| 12500/12500 [00:39<00:00, 318.30it/s]\n",
      "  0%|▏                                                                             | 30/12500 [00:00<00:41, 297.57it/s]"
     ]
    },
    {
     "name": "stdout",
     "output_type": "stream",
     "text": [
      "Batch_100: 0/32............. Loss: 0.4102\n"
     ]
    },
    {
     "name": "stderr",
     "output_type": "stream",
     "text": [
      "  4%|██▊                                                                          | 461/12500 [00:01<00:37, 321.77it/s]"
     ]
    },
    {
     "name": "stdout",
     "output_type": "stream",
     "text": [
      "Batch_100: 1/32............. Loss: 0.6562\n"
     ]
    },
    {
     "name": "stderr",
     "output_type": "stream",
     "text": [
      "  7%|█████▎                                                                       | 865/12500 [00:02<00:37, 313.44it/s]"
     ]
    },
    {
     "name": "stdout",
     "output_type": "stream",
     "text": [
      "Batch_100: 2/32............. Loss: 0.4568\n"
     ]
    },
    {
     "name": "stderr",
     "output_type": "stream",
     "text": [
      " 10%|███████▍                                                                    | 1230/12500 [00:03<00:35, 316.00it/s]"
     ]
    },
    {
     "name": "stdout",
     "output_type": "stream",
     "text": [
      "Batch_100: 3/32............. Loss: 0.6330\n"
     ]
    },
    {
     "name": "stderr",
     "output_type": "stream",
     "text": [
      " 13%|██████████                                                                  | 1664/12500 [00:05<00:33, 326.29it/s]"
     ]
    },
    {
     "name": "stdout",
     "output_type": "stream",
     "text": [
      "Batch_100: 4/32............. Loss: 0.8203\n"
     ]
    },
    {
     "name": "stderr",
     "output_type": "stream",
     "text": [
      " 16%|████████████▍                                                               | 2047/12500 [00:06<00:31, 337.09it/s]"
     ]
    },
    {
     "name": "stdout",
     "output_type": "stream",
     "text": [
      "Batch_100: 5/32............. Loss: 0.3703\n"
     ]
    },
    {
     "name": "stderr",
     "output_type": "stream",
     "text": [
      " 20%|██████████████▉                                                             | 2451/12500 [00:07<00:31, 317.33it/s]"
     ]
    },
    {
     "name": "stdout",
     "output_type": "stream",
     "text": [
      "Batch_100: 6/32............. Loss: 0.6486\n"
     ]
    },
    {
     "name": "stderr",
     "output_type": "stream",
     "text": [
      " 23%|█████████████████▎                                                          | 2851/12500 [00:08<00:29, 328.48it/s]"
     ]
    },
    {
     "name": "stdout",
     "output_type": "stream",
     "text": [
      "Batch_100: 7/32............. Loss: 0.4610\n"
     ]
    },
    {
     "name": "stderr",
     "output_type": "stream",
     "text": [
      " 26%|███████████████████▊                                                        | 3253/12500 [00:10<00:29, 315.63it/s]"
     ]
    },
    {
     "name": "stdout",
     "output_type": "stream",
     "text": [
      "Batch_100: 8/32............. Loss: 0.9588\n"
     ]
    },
    {
     "name": "stderr",
     "output_type": "stream",
     "text": [
      " 29%|██████████████████████                                                      | 3624/12500 [00:11<00:27, 319.38it/s]"
     ]
    },
    {
     "name": "stdout",
     "output_type": "stream",
     "text": [
      "Batch_100: 9/32............. Loss: 0.7443\n"
     ]
    },
    {
     "name": "stderr",
     "output_type": "stream",
     "text": [
      " 32%|████████████████████████▌                                                   | 4050/12500 [00:12<00:26, 322.52it/s]"
     ]
    },
    {
     "name": "stdout",
     "output_type": "stream",
     "text": [
      "Batch_100: 10/32............. Loss: 0.3142\n"
     ]
    },
    {
     "name": "stderr",
     "output_type": "stream",
     "text": [
      " 36%|███████████████████████████                                                 | 4452/12500 [00:13<00:26, 309.08it/s]"
     ]
    },
    {
     "name": "stdout",
     "output_type": "stream",
     "text": [
      "Batch_100: 11/32............. Loss: 0.4722\n"
     ]
    },
    {
     "name": "stderr",
     "output_type": "stream",
     "text": [
      " 39%|█████████████████████████████▌                                              | 4855/12500 [00:15<00:23, 332.08it/s]"
     ]
    },
    {
     "name": "stdout",
     "output_type": "stream",
     "text": [
      "Batch_100: 12/32............. Loss: 0.3279\n"
     ]
    },
    {
     "name": "stderr",
     "output_type": "stream",
     "text": [
      " 42%|███████████████████████████████▉                                            | 5256/12500 [00:16<00:23, 306.24it/s]"
     ]
    },
    {
     "name": "stdout",
     "output_type": "stream",
     "text": [
      "Batch_100: 13/32............. Loss: 0.1918\n"
     ]
    },
    {
     "name": "stderr",
     "output_type": "stream",
     "text": [
      " 45%|██████████████████████████████████▎                                         | 5652/12500 [00:17<00:21, 314.43it/s]"
     ]
    },
    {
     "name": "stdout",
     "output_type": "stream",
     "text": [
      "Batch_100: 14/32............. Loss: 0.8293\n"
     ]
    },
    {
     "name": "stderr",
     "output_type": "stream",
     "text": [
      " 48%|████████████████████████████████████▊                                       | 6048/12500 [00:18<00:20, 315.21it/s]"
     ]
    },
    {
     "name": "stdout",
     "output_type": "stream",
     "text": [
      "Batch_100: 15/32............. Loss: 0.6165\n"
     ]
    },
    {
     "name": "stderr",
     "output_type": "stream",
     "text": [
      " 51%|███████████████████████████████████████                                     | 6431/12500 [00:20<00:19, 308.90it/s]"
     ]
    },
    {
     "name": "stdout",
     "output_type": "stream",
     "text": [
      "Batch_100: 16/32............. Loss: 0.4529\n"
     ]
    },
    {
     "name": "stderr",
     "output_type": "stream",
     "text": [
      " 55%|█████████████████████████████████████████▌                                  | 6832/12500 [00:21<00:17, 318.20it/s]"
     ]
    },
    {
     "name": "stdout",
     "output_type": "stream",
     "text": [
      "Batch_100: 17/32............. Loss: 0.5206\n"
     ]
    },
    {
     "name": "stderr",
     "output_type": "stream",
     "text": [
      " 58%|████████████████████████████████████████████▏                               | 7276/12500 [00:22<00:15, 331.92it/s]"
     ]
    },
    {
     "name": "stdout",
     "output_type": "stream",
     "text": [
      "Batch_100: 18/32............. Loss: 0.6491\n"
     ]
    },
    {
     "name": "stderr",
     "output_type": "stream",
     "text": [
      " 61%|██████████████████████████████████████████████▍                             | 7645/12500 [00:23<00:14, 323.90it/s]"
     ]
    },
    {
     "name": "stdout",
     "output_type": "stream",
     "text": [
      "Batch_100: 19/32............. Loss: 0.7829\n"
     ]
    },
    {
     "name": "stderr",
     "output_type": "stream",
     "text": [
      " 64%|████████████████████████████████████████████████▉                           | 8042/12500 [00:25<00:14, 310.91it/s]"
     ]
    },
    {
     "name": "stdout",
     "output_type": "stream",
     "text": [
      "Batch_100: 20/32............. Loss: 0.6373\n"
     ]
    },
    {
     "name": "stderr",
     "output_type": "stream",
     "text": [
      " 68%|███████████████████████████████████████████████████▎                        | 8442/12500 [00:26<00:12, 318.76it/s]"
     ]
    },
    {
     "name": "stdout",
     "output_type": "stream",
     "text": [
      "Batch_100: 21/32............. Loss: 0.7515\n"
     ]
    },
    {
     "name": "stderr",
     "output_type": "stream",
     "text": [
      " 71%|█████████████████████████████████████████████████████▊                      | 8850/12500 [00:27<00:10, 343.39it/s]"
     ]
    },
    {
     "name": "stdout",
     "output_type": "stream",
     "text": [
      "Batch_100: 22/32............. Loss: 0.4135\n"
     ]
    },
    {
     "name": "stderr",
     "output_type": "stream",
     "text": [
      " 74%|████████████████████████████████████████████████████████▎                   | 9254/12500 [00:28<00:10, 303.43it/s]"
     ]
    },
    {
     "name": "stdout",
     "output_type": "stream",
     "text": [
      "Batch_100: 23/32............. Loss: 0.5678\n"
     ]
    },
    {
     "name": "stderr",
     "output_type": "stream",
     "text": [
      " 77%|██████████████████████████████████████████████████████████▋                 | 9652/12500 [00:30<00:09, 310.41it/s]"
     ]
    },
    {
     "name": "stdout",
     "output_type": "stream",
     "text": [
      "Batch_100: 24/32............. Loss: 0.3928\n"
     ]
    },
    {
     "name": "stderr",
     "output_type": "stream",
     "text": [
      " 80%|████████████████████████████████████████████████████████████▎              | 10048/12500 [00:31<00:07, 324.64it/s]"
     ]
    },
    {
     "name": "stdout",
     "output_type": "stream",
     "text": [
      "Batch_100: 25/32............. Loss: 0.3566\n"
     ]
    },
    {
     "name": "stderr",
     "output_type": "stream",
     "text": [
      " 84%|██████████████████████████████████████████████████████████████▋            | 10441/12500 [00:32<00:06, 319.89it/s]"
     ]
    },
    {
     "name": "stdout",
     "output_type": "stream",
     "text": [
      "Batch_100: 26/32............. Loss: 0.3246\n"
     ]
    },
    {
     "name": "stderr",
     "output_type": "stream",
     "text": [
      " 87%|█████████████████████████████████████████████████████████████████          | 10840/12500 [00:33<00:05, 304.59it/s]"
     ]
    },
    {
     "name": "stdout",
     "output_type": "stream",
     "text": [
      "Batch_100: 27/32............. Loss: 1.4009\n"
     ]
    },
    {
     "name": "stderr",
     "output_type": "stream",
     "text": [
      " 90%|███████████████████████████████████████████████████████████████████▍       | 11249/12500 [00:35<00:03, 317.37it/s]"
     ]
    },
    {
     "name": "stdout",
     "output_type": "stream",
     "text": [
      "Batch_100: 28/32............. Loss: 0.2155\n"
     ]
    },
    {
     "name": "stderr",
     "output_type": "stream",
     "text": [
      " 93%|█████████████████████████████████████████████████████████████████████▉     | 11653/12500 [00:36<00:02, 329.52it/s]"
     ]
    },
    {
     "name": "stdout",
     "output_type": "stream",
     "text": [
      "Batch_100: 29/32............. Loss: 0.3606\n"
     ]
    },
    {
     "name": "stderr",
     "output_type": "stream",
     "text": [
      " 96%|████████████████████████████████████████████████████████████████████████▏  | 12041/12500 [00:37<00:01, 311.58it/s]"
     ]
    },
    {
     "name": "stdout",
     "output_type": "stream",
     "text": [
      "Batch_100: 30/32............. Loss: 0.9608\n"
     ]
    },
    {
     "name": "stderr",
     "output_type": "stream",
     "text": [
      "100%|██████████████████████████████████████████████████████████████████████████▋| 12440/12500 [00:38<00:00, 319.87it/s]"
     ]
    },
    {
     "name": "stdout",
     "output_type": "stream",
     "text": [
      "Batch_100: 31/32............. Loss: 0.5551\n"
     ]
    },
    {
     "name": "stderr",
     "output_type": "stream",
     "text": [
      "100%|███████████████████████████████████████████████████████████████████████████| 12500/12500 [00:39<00:00, 319.22it/s]\n",
      "  0%|▏                                                                             | 31/12500 [00:00<00:41, 302.24it/s]"
     ]
    },
    {
     "name": "stdout",
     "output_type": "stream",
     "text": [
      "Batch_100: 0/32............. Loss: 0.5378\n"
     ]
    },
    {
     "name": "stderr",
     "output_type": "stream",
     "text": [
      "  4%|██▊                                                                          | 456/12500 [00:01<00:38, 315.71it/s]"
     ]
    },
    {
     "name": "stdout",
     "output_type": "stream",
     "text": [
      "Batch_100: 1/32............. Loss: 1.3325\n"
     ]
    },
    {
     "name": "stderr",
     "output_type": "stream",
     "text": [
      "  7%|█████▎                                                                       | 859/12500 [00:02<00:36, 319.82it/s]"
     ]
    },
    {
     "name": "stdout",
     "output_type": "stream",
     "text": [
      "Batch_100: 2/32............. Loss: 0.5640\n"
     ]
    },
    {
     "name": "stderr",
     "output_type": "stream",
     "text": [
      " 10%|███████▍                                                                    | 1230/12500 [00:03<00:36, 313.01it/s]"
     ]
    },
    {
     "name": "stdout",
     "output_type": "stream",
     "text": [
      "Batch_100: 3/32............. Loss: 1.1907\n"
     ]
    },
    {
     "name": "stderr",
     "output_type": "stream",
     "text": [
      " 13%|██████████                                                                  | 1657/12500 [00:05<00:34, 311.25it/s]"
     ]
    },
    {
     "name": "stdout",
     "output_type": "stream",
     "text": [
      "Batch_100: 4/32............. Loss: 0.4251\n"
     ]
    },
    {
     "name": "stderr",
     "output_type": "stream",
     "text": [
      " 16%|████████████▌                                                               | 2061/12500 [00:06<00:31, 334.65it/s]"
     ]
    },
    {
     "name": "stdout",
     "output_type": "stream",
     "text": [
      "Batch_100: 5/32............. Loss: 0.2602\n"
     ]
    },
    {
     "name": "stderr",
     "output_type": "stream",
     "text": [
      " 20%|██████████████▉                                                             | 2459/12500 [00:07<00:32, 312.00it/s]"
     ]
    },
    {
     "name": "stdout",
     "output_type": "stream",
     "text": [
      "Batch_100: 6/32............. Loss: 0.3224\n"
     ]
    },
    {
     "name": "stderr",
     "output_type": "stream",
     "text": [
      " 23%|█████████████████▎                                                          | 2856/12500 [00:08<00:30, 320.59it/s]"
     ]
    },
    {
     "name": "stdout",
     "output_type": "stream",
     "text": [
      "Batch_100: 7/32............. Loss: 0.7225\n"
     ]
    },
    {
     "name": "stderr",
     "output_type": "stream",
     "text": [
      " 26%|███████████████████▊                                                        | 3256/12500 [00:10<00:28, 320.47it/s]"
     ]
    },
    {
     "name": "stdout",
     "output_type": "stream",
     "text": [
      "Batch_100: 8/32............. Loss: 0.8066\n"
     ]
    },
    {
     "name": "stderr",
     "output_type": "stream",
     "text": [
      " 29%|██████████████████████▏                                                     | 3653/12500 [00:11<00:28, 306.65it/s]"
     ]
    },
    {
     "name": "stdout",
     "output_type": "stream",
     "text": [
      "Batch_100: 9/32............. Loss: 0.6703\n"
     ]
    },
    {
     "name": "stderr",
     "output_type": "stream",
     "text": [
      " 32%|████████████████████████▌                                                   | 4049/12500 [00:12<00:26, 316.06it/s]"
     ]
    },
    {
     "name": "stdout",
     "output_type": "stream",
     "text": [
      "Batch_100: 10/32............. Loss: 0.9785\n"
     ]
    },
    {
     "name": "stderr",
     "output_type": "stream",
     "text": [
      " 36%|███████████████████████████                                                 | 4454/12500 [00:13<00:24, 329.65it/s]"
     ]
    },
    {
     "name": "stdout",
     "output_type": "stream",
     "text": [
      "Batch_100: 11/32............. Loss: 0.7271\n"
     ]
    },
    {
     "name": "stderr",
     "output_type": "stream",
     "text": [
      " 39%|█████████████████████████████▌                                              | 4861/12500 [00:15<00:23, 329.39it/s]"
     ]
    },
    {
     "name": "stdout",
     "output_type": "stream",
     "text": [
      "Batch_100: 12/32............. Loss: 0.7124\n"
     ]
    },
    {
     "name": "stderr",
     "output_type": "stream",
     "text": [
      " 42%|███████████████████████████████▉                                            | 5258/12500 [00:16<00:24, 290.47it/s]"
     ]
    },
    {
     "name": "stdout",
     "output_type": "stream",
     "text": [
      "Batch_100: 13/32............. Loss: 0.3798\n"
     ]
    },
    {
     "name": "stderr",
     "output_type": "stream",
     "text": [
      " 45%|██████████████████████████████████▏                                         | 5623/12500 [00:17<00:21, 315.28it/s]"
     ]
    },
    {
     "name": "stdout",
     "output_type": "stream",
     "text": [
      "Batch_100: 14/32............. Loss: 0.2590\n"
     ]
    },
    {
     "name": "stderr",
     "output_type": "stream",
     "text": [
      " 48%|████████████████████████████████████▊                                       | 6058/12500 [00:18<00:19, 324.29it/s]"
     ]
    },
    {
     "name": "stdout",
     "output_type": "stream",
     "text": [
      "Batch_100: 15/32............. Loss: 1.5027\n"
     ]
    },
    {
     "name": "stderr",
     "output_type": "stream",
     "text": [
      " 51%|███████████████████████████████████████                                     | 6431/12500 [00:20<00:19, 306.11it/s]"
     ]
    },
    {
     "name": "stdout",
     "output_type": "stream",
     "text": [
      "Batch_100: 16/32............. Loss: 0.2901\n"
     ]
    },
    {
     "name": "stderr",
     "output_type": "stream",
     "text": [
      " 55%|█████████████████████████████████████████▌                                  | 6839/12500 [00:21<00:17, 315.88it/s]"
     ]
    },
    {
     "name": "stdout",
     "output_type": "stream",
     "text": [
      "Batch_100: 17/32............. Loss: 1.2943\n"
     ]
    },
    {
     "name": "stderr",
     "output_type": "stream",
     "text": [
      " 58%|████████████████████████████████████████████▏                               | 7268/12500 [00:22<00:16, 326.97it/s]"
     ]
    },
    {
     "name": "stdout",
     "output_type": "stream",
     "text": [
      "Batch_100: 18/32............. Loss: 0.3193\n"
     ]
    },
    {
     "name": "stderr",
     "output_type": "stream",
     "text": [
      " 61%|██████████████████████████████████████████████▌                             | 7658/12500 [00:24<00:15, 305.86it/s]"
     ]
    },
    {
     "name": "stdout",
     "output_type": "stream",
     "text": [
      "Batch_100: 19/32............. Loss: 0.3539\n"
     ]
    },
    {
     "name": "stderr",
     "output_type": "stream",
     "text": [
      " 64%|█████████████████████████████████████████████████                           | 8060/12500 [00:25<00:13, 328.10it/s]"
     ]
    },
    {
     "name": "stdout",
     "output_type": "stream",
     "text": [
      "Batch_100: 20/32............. Loss: 0.3355\n"
     ]
    },
    {
     "name": "stderr",
     "output_type": "stream",
     "text": [
      " 67%|███████████████████████████████████████████████████▎                        | 8435/12500 [00:26<00:12, 329.60it/s]"
     ]
    },
    {
     "name": "stdout",
     "output_type": "stream",
     "text": [
      "Batch_100: 21/32............. Loss: 0.0947\n"
     ]
    },
    {
     "name": "stderr",
     "output_type": "stream",
     "text": [
      " 71%|█████████████████████████████████████████████████████▋                      | 8836/12500 [00:27<00:11, 319.62it/s]"
     ]
    },
    {
     "name": "stdout",
     "output_type": "stream",
     "text": [
      "Batch_100: 22/32............. Loss: 0.9755\n"
     ]
    },
    {
     "name": "stderr",
     "output_type": "stream",
     "text": [
      " 74%|████████████████████████████████████████████████████████▏                   | 9247/12500 [00:28<00:09, 339.56it/s]"
     ]
    },
    {
     "name": "stdout",
     "output_type": "stream",
     "text": [
      "Batch_100: 23/32............. Loss: 0.5982\n"
     ]
    },
    {
     "name": "stderr",
     "output_type": "stream",
     "text": [
      " 77%|██████████████████████████████████████████████████████████▋                 | 9652/12500 [00:30<00:08, 322.26it/s]"
     ]
    },
    {
     "name": "stdout",
     "output_type": "stream",
     "text": [
      "Batch_100: 24/32............. Loss: 0.7471\n"
     ]
    },
    {
     "name": "stderr",
     "output_type": "stream",
     "text": [
      " 80%|████████████████████████████████████████████████████████████▎              | 10058/12500 [00:31<00:07, 325.88it/s]"
     ]
    },
    {
     "name": "stdout",
     "output_type": "stream",
     "text": [
      "Batch_100: 25/32............. Loss: 0.8034\n"
     ]
    },
    {
     "name": "stderr",
     "output_type": "stream",
     "text": [
      " 84%|██████████████████████████████████████████████████████████████▋            | 10457/12500 [00:32<00:06, 327.99it/s]"
     ]
    },
    {
     "name": "stdout",
     "output_type": "stream",
     "text": [
      "Batch_100: 26/32............. Loss: 0.1477\n"
     ]
    },
    {
     "name": "stderr",
     "output_type": "stream",
     "text": [
      " 87%|████████████████████████████████████████████████████████████████▉          | 10830/12500 [00:33<00:05, 327.37it/s]"
     ]
    },
    {
     "name": "stdout",
     "output_type": "stream",
     "text": [
      "Batch_100: 27/32............. Loss: 0.7766\n"
     ]
    },
    {
     "name": "stderr",
     "output_type": "stream",
     "text": [
      " 90%|███████████████████████████████████████████████████████████████████▍       | 11236/12500 [00:35<00:03, 318.26it/s]"
     ]
    },
    {
     "name": "stdout",
     "output_type": "stream",
     "text": [
      "Batch_100: 28/32............. Loss: 0.7013\n"
     ]
    },
    {
     "name": "stderr",
     "output_type": "stream",
     "text": [
      " 93%|█████████████████████████████████████████████████████████████████████▊     | 11638/12500 [00:36<00:02, 330.91it/s]"
     ]
    },
    {
     "name": "stdout",
     "output_type": "stream",
     "text": [
      "Batch_100: 29/32............. Loss: 0.5066\n"
     ]
    },
    {
     "name": "stderr",
     "output_type": "stream",
     "text": [
      " 96%|████████████████████████████████████████████████████████████████████████▏  | 12039/12500 [00:37<00:01, 325.15it/s]"
     ]
    },
    {
     "name": "stdout",
     "output_type": "stream",
     "text": [
      "Batch_100: 30/32............. Loss: 0.7382\n"
     ]
    },
    {
     "name": "stderr",
     "output_type": "stream",
     "text": [
      "100%|██████████████████████████████████████████████████████████████████████████▊| 12464/12500 [00:38<00:00, 308.50it/s]"
     ]
    },
    {
     "name": "stdout",
     "output_type": "stream",
     "text": [
      "Batch_100: 31/32............. Loss: 0.3292\n"
     ]
    },
    {
     "name": "stderr",
     "output_type": "stream",
     "text": [
      "100%|███████████████████████████████████████████████████████████████████████████| 12500/12500 [00:39<00:00, 319.81it/s]\n",
      "  0%|▏                                                                             | 31/12500 [00:00<00:40, 304.55it/s]"
     ]
    },
    {
     "name": "stdout",
     "output_type": "stream",
     "text": [
      "Batch_100: 0/32............. Loss: 0.4801\n"
     ]
    },
    {
     "name": "stderr",
     "output_type": "stream",
     "text": [
      "  3%|██▋                                                                          | 431/12500 [00:01<00:38, 309.72it/s]"
     ]
    },
    {
     "name": "stdout",
     "output_type": "stream",
     "text": [
      "Batch_100: 1/32............. Loss: 0.8163\n"
     ]
    },
    {
     "name": "stderr",
     "output_type": "stream",
     "text": [
      "  7%|█████▎                                                                       | 859/12500 [00:02<00:36, 316.36it/s]"
     ]
    },
    {
     "name": "stdout",
     "output_type": "stream",
     "text": [
      "Batch_100: 2/32............. Loss: 0.7150\n"
     ]
    },
    {
     "name": "stderr",
     "output_type": "stream",
     "text": [
      " 10%|███████▋                                                                    | 1257/12500 [00:03<00:34, 326.32it/s]"
     ]
    },
    {
     "name": "stdout",
     "output_type": "stream",
     "text": [
      "Batch_100: 3/32............. Loss: 0.4058\n"
     ]
    },
    {
     "name": "stderr",
     "output_type": "stream",
     "text": [
      " 13%|██████████                                                                  | 1651/12500 [00:05<00:34, 314.54it/s]"
     ]
    },
    {
     "name": "stdout",
     "output_type": "stream",
     "text": [
      "Batch_100: 4/32............. Loss: 1.1190\n"
     ]
    },
    {
     "name": "stderr",
     "output_type": "stream",
     "text": [
      " 16%|████████████▍                                                               | 2038/12500 [00:06<00:33, 309.07it/s]"
     ]
    },
    {
     "name": "stdout",
     "output_type": "stream",
     "text": [
      "Batch_100: 5/32............. Loss: 1.3941\n"
     ]
    },
    {
     "name": "stderr",
     "output_type": "stream",
     "text": [
      " 20%|███████████████                                                             | 2470/12500 [00:07<00:30, 329.82it/s]"
     ]
    },
    {
     "name": "stdout",
     "output_type": "stream",
     "text": [
      "Batch_100: 6/32............. Loss: 0.2088\n"
     ]
    },
    {
     "name": "stderr",
     "output_type": "stream",
     "text": [
      " 23%|█████████████████▎                                                          | 2838/12500 [00:08<00:30, 313.09it/s]"
     ]
    },
    {
     "name": "stdout",
     "output_type": "stream",
     "text": [
      "Batch_100: 7/32............. Loss: 0.1429\n"
     ]
    },
    {
     "name": "stderr",
     "output_type": "stream",
     "text": [
      " 26%|███████████████████▊                                                        | 3264/12500 [00:10<00:28, 327.59it/s]"
     ]
    },
    {
     "name": "stdout",
     "output_type": "stream",
     "text": [
      "Batch_100: 8/32............. Loss: 0.6907\n"
     ]
    },
    {
     "name": "stderr",
     "output_type": "stream",
     "text": [
      " 29%|██████████████████████                                                      | 3637/12500 [00:11<00:27, 321.14it/s]"
     ]
    },
    {
     "name": "stdout",
     "output_type": "stream",
     "text": [
      "Batch_100: 9/32............. Loss: 0.7440\n"
     ]
    },
    {
     "name": "stderr",
     "output_type": "stream",
     "text": [
      " 32%|████████████████████████▌                                                   | 4035/12500 [00:12<00:26, 322.09it/s]"
     ]
    },
    {
     "name": "stdout",
     "output_type": "stream",
     "text": [
      "Batch_100: 10/32............. Loss: 0.7671\n"
     ]
    },
    {
     "name": "stderr",
     "output_type": "stream",
     "text": [
      " 36%|██████████████████████████▉                                                 | 4440/12500 [00:13<00:24, 328.19it/s]"
     ]
    },
    {
     "name": "stdout",
     "output_type": "stream",
     "text": [
      "Batch_100: 11/32............. Loss: 1.1148\n"
     ]
    },
    {
     "name": "stderr",
     "output_type": "stream",
     "text": [
      " 39%|█████████████████████████████▍                                              | 4842/12500 [00:15<00:23, 328.58it/s]"
     ]
    },
    {
     "name": "stdout",
     "output_type": "stream",
     "text": [
      "Batch_100: 12/32............. Loss: 0.3995\n"
     ]
    },
    {
     "name": "stderr",
     "output_type": "stream",
     "text": [
      " 42%|███████████████████████████████▊                                            | 5240/12500 [00:16<00:22, 326.66it/s]"
     ]
    },
    {
     "name": "stdout",
     "output_type": "stream",
     "text": [
      "Batch_100: 13/32............. Loss: 0.9665\n"
     ]
    },
    {
     "name": "stderr",
     "output_type": "stream",
     "text": [
      " 45%|██████████████████████████████████▎                                         | 5641/12500 [00:17<00:21, 316.58it/s]"
     ]
    },
    {
     "name": "stdout",
     "output_type": "stream",
     "text": [
      "Batch_100: 14/32............. Loss: 0.5043\n"
     ]
    },
    {
     "name": "stderr",
     "output_type": "stream",
     "text": [
      " 49%|████████████████████████████████████▉                                       | 6068/12500 [00:19<00:20, 318.31it/s]"
     ]
    },
    {
     "name": "stdout",
     "output_type": "stream",
     "text": [
      "Batch_100: 15/32............. Loss: 0.5413\n"
     ]
    },
    {
     "name": "stderr",
     "output_type": "stream",
     "text": [
      " 51%|███████████████████████████████████████                                     | 6431/12500 [00:20<00:19, 304.44it/s]"
     ]
    },
    {
     "name": "stdout",
     "output_type": "stream",
     "text": [
      "Batch_100: 16/32............. Loss: 0.6432\n"
     ]
    },
    {
     "name": "stderr",
     "output_type": "stream",
     "text": [
      " 55%|█████████████████████████████████████████▌                                  | 6844/12500 [00:21<00:18, 310.16it/s]"
     ]
    },
    {
     "name": "stdout",
     "output_type": "stream",
     "text": [
      "Batch_100: 17/32............. Loss: 0.9934\n"
     ]
    },
    {
     "name": "stderr",
     "output_type": "stream",
     "text": [
      " 58%|████████████████████████████████████████████                                | 7240/12500 [00:22<00:16, 320.30it/s]"
     ]
    },
    {
     "name": "stdout",
     "output_type": "stream",
     "text": [
      "Batch_100: 18/32............. Loss: 0.4767\n"
     ]
    },
    {
     "name": "stderr",
     "output_type": "stream",
     "text": [
      " 61%|██████████████████████████████████████████████▍                             | 7643/12500 [00:24<00:14, 327.33it/s]"
     ]
    },
    {
     "name": "stdout",
     "output_type": "stream",
     "text": [
      "Batch_100: 19/32............. Loss: 0.2213\n"
     ]
    },
    {
     "name": "stderr",
     "output_type": "stream",
     "text": [
      " 64%|████████████████████████████████████████████████▉                           | 8046/12500 [00:25<00:13, 320.91it/s]"
     ]
    },
    {
     "name": "stdout",
     "output_type": "stream",
     "text": [
      "Batch_100: 20/32............. Loss: 0.5959\n"
     ]
    },
    {
     "name": "stderr",
     "output_type": "stream",
     "text": [
      " 68%|███████████████████████████████████████████████████▍                        | 8458/12500 [00:26<00:12, 324.48it/s]"
     ]
    },
    {
     "name": "stdout",
     "output_type": "stream",
     "text": [
      "Batch_100: 21/32............. Loss: 0.3398\n"
     ]
    },
    {
     "name": "stderr",
     "output_type": "stream",
     "text": [
      " 71%|█████████████████████████████████████████████████████▊                      | 8852/12500 [00:27<00:11, 328.18it/s]"
     ]
    },
    {
     "name": "stdout",
     "output_type": "stream",
     "text": [
      "Batch_100: 22/32............. Loss: 0.2358\n"
     ]
    },
    {
     "name": "stderr",
     "output_type": "stream",
     "text": [
      " 74%|████████████████████████████████████████████████████████▎                   | 9258/12500 [00:29<00:09, 326.21it/s]"
     ]
    },
    {
     "name": "stdout",
     "output_type": "stream",
     "text": [
      "Batch_100: 23/32............. Loss: 1.0607\n"
     ]
    },
    {
     "name": "stderr",
     "output_type": "stream",
     "text": [
      " 77%|██████████████████████████████████████████████████████████▋                 | 9653/12500 [00:30<00:08, 317.87it/s]"
     ]
    },
    {
     "name": "stdout",
     "output_type": "stream",
     "text": [
      "Batch_100: 24/32............. Loss: 1.0809\n"
     ]
    },
    {
     "name": "stderr",
     "output_type": "stream",
     "text": [
      " 80%|████████████████████████████████████████████████████████████▎              | 10051/12500 [00:31<00:07, 307.06it/s]"
     ]
    },
    {
     "name": "stdout",
     "output_type": "stream",
     "text": [
      "Batch_100: 25/32............. Loss: 0.6783\n"
     ]
    },
    {
     "name": "stderr",
     "output_type": "stream",
     "text": [
      " 84%|██████████████████████████████████████████████████████████████▋            | 10441/12500 [00:32<00:06, 310.42it/s]"
     ]
    },
    {
     "name": "stdout",
     "output_type": "stream",
     "text": [
      "Batch_100: 26/32............. Loss: 1.4476\n"
     ]
    },
    {
     "name": "stderr",
     "output_type": "stream",
     "text": [
      " 87%|█████████████████████████████████████████████████████████████████          | 10843/12500 [00:34<00:05, 330.07it/s]"
     ]
    },
    {
     "name": "stdout",
     "output_type": "stream",
     "text": [
      "Batch_100: 27/32............. Loss: 0.2522\n"
     ]
    },
    {
     "name": "stderr",
     "output_type": "stream",
     "text": [
      " 90%|███████████████████████████████████████████████████████████████████▍       | 11242/12500 [00:35<00:03, 317.60it/s]"
     ]
    },
    {
     "name": "stdout",
     "output_type": "stream",
     "text": [
      "Batch_100: 28/32............. Loss: 0.6291\n"
     ]
    },
    {
     "name": "stderr",
     "output_type": "stream",
     "text": [
      " 93%|█████████████████████████████████████████████████████████████████████▊     | 11642/12500 [00:36<00:02, 311.73it/s]"
     ]
    },
    {
     "name": "stdout",
     "output_type": "stream",
     "text": [
      "Batch_100: 29/32............. Loss: 0.6984\n"
     ]
    },
    {
     "name": "stderr",
     "output_type": "stream",
     "text": [
      " 96%|████████████████████████████████████████████████████████████████████████▏  | 12038/12500 [00:37<00:01, 320.00it/s]"
     ]
    },
    {
     "name": "stdout",
     "output_type": "stream",
     "text": [
      "Batch_100: 30/32............. Loss: 0.1715\n"
     ]
    },
    {
     "name": "stderr",
     "output_type": "stream",
     "text": [
      " 99%|██████████████████████████████████████████████████████████████████████████▌| 12436/12500 [00:39<00:00, 312.78it/s]"
     ]
    },
    {
     "name": "stdout",
     "output_type": "stream",
     "text": [
      "Batch_100: 31/32............. Loss: 0.0807\n"
     ]
    },
    {
     "name": "stderr",
     "output_type": "stream",
     "text": [
      "100%|███████████████████████████████████████████████████████████████████████████| 12500/12500 [00:39<00:00, 317.86it/s]\n",
      "  1%|▍                                                                             | 66/12500 [00:00<00:41, 301.88it/s]"
     ]
    },
    {
     "name": "stdout",
     "output_type": "stream",
     "text": [
      "Batch_100: 0/32............. Loss: 0.3636\n"
     ]
    },
    {
     "name": "stderr",
     "output_type": "stream",
     "text": [
      "  4%|██▊                                                                          | 462/12500 [00:01<00:37, 322.89it/s]"
     ]
    },
    {
     "name": "stdout",
     "output_type": "stream",
     "text": [
      "Batch_100: 1/32............. Loss: 0.3215\n"
     ]
    },
    {
     "name": "stderr",
     "output_type": "stream",
     "text": [
      "  7%|█████▏                                                                       | 833/12500 [00:02<00:36, 318.87it/s]"
     ]
    },
    {
     "name": "stdout",
     "output_type": "stream",
     "text": [
      "Batch_100: 2/32............. Loss: 0.8885\n"
     ]
    },
    {
     "name": "stderr",
     "output_type": "stream",
     "text": [
      " 10%|███████▍                                                                    | 1233/12500 [00:03<00:36, 309.65it/s]"
     ]
    },
    {
     "name": "stdout",
     "output_type": "stream",
     "text": [
      "Batch_100: 3/32............. Loss: 0.6676\n"
     ]
    },
    {
     "name": "stderr",
     "output_type": "stream",
     "text": [
      " 13%|██████████                                                                  | 1662/12500 [00:05<00:34, 311.37it/s]"
     ]
    },
    {
     "name": "stdout",
     "output_type": "stream",
     "text": [
      "Batch_100: 4/32............. Loss: 0.2914\n"
     ]
    },
    {
     "name": "stderr",
     "output_type": "stream",
     "text": [
      " 17%|████████████▌                                                               | 2068/12500 [00:06<00:32, 323.09it/s]"
     ]
    },
    {
     "name": "stdout",
     "output_type": "stream",
     "text": [
      "Batch_100: 5/32............. Loss: 0.5239\n"
     ]
    },
    {
     "name": "stderr",
     "output_type": "stream",
     "text": [
      " 19%|██████████████▊                                                             | 2436/12500 [00:07<00:32, 314.46it/s]"
     ]
    },
    {
     "name": "stdout",
     "output_type": "stream",
     "text": [
      "Batch_100: 6/32............. Loss: 0.1136\n"
     ]
    },
    {
     "name": "stderr",
     "output_type": "stream",
     "text": [
      " 23%|█████████████████▍                                                          | 2859/12500 [00:08<00:29, 329.41it/s]"
     ]
    },
    {
     "name": "stdout",
     "output_type": "stream",
     "text": [
      "Batch_100: 7/32............. Loss: 0.4286\n"
     ]
    },
    {
     "name": "stderr",
     "output_type": "stream",
     "text": [
      " 26%|███████████████████▋                                                        | 3231/12500 [00:10<00:28, 324.76it/s]"
     ]
    },
    {
     "name": "stdout",
     "output_type": "stream",
     "text": [
      "Batch_100: 8/32............. Loss: 1.4281\n"
     ]
    },
    {
     "name": "stderr",
     "output_type": "stream",
     "text": [
      " 29%|██████████████████████                                                      | 3635/12500 [00:11<00:26, 330.18it/s]"
     ]
    },
    {
     "name": "stdout",
     "output_type": "stream",
     "text": [
      "Batch_100: 9/32............. Loss: 0.3915\n"
     ]
    },
    {
     "name": "stderr",
     "output_type": "stream",
     "text": [
      " 32%|████████████████████████▋                                                   | 4062/12500 [00:12<00:27, 311.65it/s]"
     ]
    },
    {
     "name": "stdout",
     "output_type": "stream",
     "text": [
      "Batch_100: 10/32............. Loss: 0.3358\n"
     ]
    },
    {
     "name": "stderr",
     "output_type": "stream",
     "text": [
      " 36%|███████████████████████████                                                 | 4453/12500 [00:14<00:26, 301.61it/s]"
     ]
    },
    {
     "name": "stdout",
     "output_type": "stream",
     "text": [
      "Batch_100: 11/32............. Loss: 0.5607\n"
     ]
    },
    {
     "name": "stderr",
     "output_type": "stream",
     "text": [
      " 39%|█████████████████████████████▌                                              | 4855/12500 [00:15<00:23, 327.76it/s]"
     ]
    },
    {
     "name": "stdout",
     "output_type": "stream",
     "text": [
      "Batch_100: 12/32............. Loss: 1.1948\n"
     ]
    },
    {
     "name": "stderr",
     "output_type": "stream",
     "text": [
      " 42%|███████████████████████████████▊                                            | 5235/12500 [00:16<00:23, 303.48it/s]"
     ]
    },
    {
     "name": "stdout",
     "output_type": "stream",
     "text": [
      "Batch_100: 13/32............. Loss: 0.4405\n"
     ]
    },
    {
     "name": "stderr",
     "output_type": "stream",
     "text": [
      " 45%|██████████████████████████████████▍                                         | 5659/12500 [00:17<00:21, 318.33it/s]"
     ]
    },
    {
     "name": "stdout",
     "output_type": "stream",
     "text": [
      "Batch_100: 14/32............. Loss: 0.2692\n"
     ]
    },
    {
     "name": "stderr",
     "output_type": "stream",
     "text": [
      " 48%|████████████████████████████████████▋                                       | 6033/12500 [00:19<00:20, 317.82it/s]"
     ]
    },
    {
     "name": "stdout",
     "output_type": "stream",
     "text": [
      "Batch_100: 15/32............. Loss: 0.5884\n"
     ]
    },
    {
     "name": "stderr",
     "output_type": "stream",
     "text": [
      " 52%|███████████████████████████████████████▎                                    | 6458/12500 [00:20<00:19, 313.73it/s]"
     ]
    },
    {
     "name": "stdout",
     "output_type": "stream",
     "text": [
      "Batch_100: 16/32............. Loss: 0.4141\n"
     ]
    },
    {
     "name": "stderr",
     "output_type": "stream",
     "text": [
      " 55%|█████████████████████████████████████████▋                                  | 6859/12500 [00:21<00:18, 312.94it/s]"
     ]
    },
    {
     "name": "stdout",
     "output_type": "stream",
     "text": [
      "Batch_100: 17/32............. Loss: 0.5366\n"
     ]
    },
    {
     "name": "stderr",
     "output_type": "stream",
     "text": [
      " 58%|████████████████████████████████████████████                                | 7257/12500 [00:22<00:15, 335.26it/s]"
     ]
    },
    {
     "name": "stdout",
     "output_type": "stream",
     "text": [
      "Batch_100: 18/32............. Loss: 0.3580\n"
     ]
    },
    {
     "name": "stderr",
     "output_type": "stream",
     "text": [
      " 61%|██████████████████████████████████████████████▌                             | 7659/12500 [00:24<00:14, 329.00it/s]"
     ]
    },
    {
     "name": "stdout",
     "output_type": "stream",
     "text": [
      "Batch_100: 19/32............. Loss: 0.2301\n"
     ]
    },
    {
     "name": "stderr",
     "output_type": "stream",
     "text": [
      " 64%|████████████████████████████████████████████████▊                           | 8036/12500 [00:25<00:13, 323.40it/s]"
     ]
    },
    {
     "name": "stdout",
     "output_type": "stream",
     "text": [
      "Batch_100: 20/32............. Loss: 0.5855\n"
     ]
    },
    {
     "name": "stderr",
     "output_type": "stream",
     "text": [
      " 67%|███████████████████████████████████████████████████▎                        | 8433/12500 [00:26<00:12, 325.45it/s]"
     ]
    },
    {
     "name": "stdout",
     "output_type": "stream",
     "text": [
      "Batch_100: 21/32............. Loss: 1.0526\n"
     ]
    },
    {
     "name": "stderr",
     "output_type": "stream",
     "text": [
      " 71%|█████████████████████████████████████████████████████▋                      | 8838/12500 [00:27<00:11, 323.65it/s]"
     ]
    },
    {
     "name": "stdout",
     "output_type": "stream",
     "text": [
      "Batch_100: 22/32............. Loss: 0.4752\n"
     ]
    },
    {
     "name": "stderr",
     "output_type": "stream",
     "text": [
      " 74%|████████████████████████████████████████████████████████▎                   | 9265/12500 [00:29<00:10, 315.03it/s]"
     ]
    },
    {
     "name": "stdout",
     "output_type": "stream",
     "text": [
      "Batch_100: 23/32............. Loss: 0.2168\n"
     ]
    },
    {
     "name": "stderr",
     "output_type": "stream",
     "text": [
      " 77%|██████████████████████████████████████████████████████████▋                 | 9661/12500 [00:30<00:08, 319.68it/s]"
     ]
    },
    {
     "name": "stdout",
     "output_type": "stream",
     "text": [
      "Batch_100: 24/32............. Loss: 1.4375\n"
     ]
    },
    {
     "name": "stderr",
     "output_type": "stream",
     "text": [
      " 80%|████████████████████████████████████████████████████████████▏              | 10025/12500 [00:31<00:07, 315.06it/s]"
     ]
    },
    {
     "name": "stdout",
     "output_type": "stream",
     "text": [
      "Batch_100: 25/32............. Loss: 0.5091\n"
     ]
    },
    {
     "name": "stderr",
     "output_type": "stream",
     "text": [
      " 84%|██████████████████████████████████████████████████████████████▋            | 10448/12500 [00:32<00:06, 322.18it/s]"
     ]
    },
    {
     "name": "stdout",
     "output_type": "stream",
     "text": [
      "Batch_100: 26/32............. Loss: 0.4648\n"
     ]
    },
    {
     "name": "stderr",
     "output_type": "stream",
     "text": [
      " 87%|█████████████████████████████████████████████████████████████████          | 10849/12500 [00:34<00:05, 317.05it/s]"
     ]
    },
    {
     "name": "stdout",
     "output_type": "stream",
     "text": [
      "Batch_100: 27/32............. Loss: 1.0406\n"
     ]
    },
    {
     "name": "stderr",
     "output_type": "stream",
     "text": [
      " 90%|███████████████████████████████████████████████████████████████████▍       | 11246/12500 [00:35<00:03, 316.15it/s]"
     ]
    },
    {
     "name": "stdout",
     "output_type": "stream",
     "text": [
      "Batch_100: 28/32............. Loss: 0.4291\n"
     ]
    },
    {
     "name": "stderr",
     "output_type": "stream",
     "text": [
      " 93%|█████████████████████████████████████████████████████████████████████▉     | 11646/12500 [00:36<00:02, 324.44it/s]"
     ]
    },
    {
     "name": "stdout",
     "output_type": "stream",
     "text": [
      "Batch_100: 29/32............. Loss: 1.4386\n"
     ]
    },
    {
     "name": "stderr",
     "output_type": "stream",
     "text": [
      " 96%|████████████████████████████████████████████████████████████████████████▎  | 12049/12500 [00:37<00:01, 321.68it/s]"
     ]
    },
    {
     "name": "stdout",
     "output_type": "stream",
     "text": [
      "Batch_100: 30/32............. Loss: 0.3382\n"
     ]
    },
    {
     "name": "stderr",
     "output_type": "stream",
     "text": [
      "100%|██████████████████████████████████████████████████████████████████████████▋| 12454/12500 [00:39<00:00, 324.13it/s]"
     ]
    },
    {
     "name": "stdout",
     "output_type": "stream",
     "text": [
      "Batch_100: 31/32............. Loss: 0.6273\n"
     ]
    },
    {
     "name": "stderr",
     "output_type": "stream",
     "text": [
      "100%|███████████████████████████████████████████████████████████████████████████| 12500/12500 [00:39<00:00, 317.65it/s]\n",
      "  0%|▏                                                                             | 26/12500 [00:00<00:48, 258.37it/s]"
     ]
    },
    {
     "name": "stdout",
     "output_type": "stream",
     "text": [
      "Batch_100: 0/32............. Loss: 0.4243\n"
     ]
    },
    {
     "name": "stderr",
     "output_type": "stream",
     "text": [
      "  4%|██▊                                                                          | 453/12500 [00:01<00:36, 331.19it/s]"
     ]
    },
    {
     "name": "stdout",
     "output_type": "stream",
     "text": [
      "Batch_100: 1/32............. Loss: 0.8935\n"
     ]
    },
    {
     "name": "stderr",
     "output_type": "stream",
     "text": [
      "  7%|█████▎                                                                       | 861/12500 [00:02<00:34, 337.94it/s]"
     ]
    },
    {
     "name": "stdout",
     "output_type": "stream",
     "text": [
      "Batch_100: 2/32............. Loss: 0.5431\n"
     ]
    },
    {
     "name": "stderr",
     "output_type": "stream",
     "text": [
      " 10%|███████▋                                                                    | 1265/12500 [00:03<00:34, 324.88it/s]"
     ]
    },
    {
     "name": "stdout",
     "output_type": "stream",
     "text": [
      "Batch_100: 3/32............. Loss: 0.2913\n"
     ]
    },
    {
     "name": "stderr",
     "output_type": "stream",
     "text": [
      " 13%|██████████                                                                  | 1661/12500 [00:05<00:33, 320.89it/s]"
     ]
    },
    {
     "name": "stdout",
     "output_type": "stream",
     "text": [
      "Batch_100: 4/32............. Loss: 0.7007\n"
     ]
    },
    {
     "name": "stderr",
     "output_type": "stream",
     "text": [
      " 16%|████████████▍                                                               | 2038/12500 [00:06<00:31, 330.94it/s]"
     ]
    },
    {
     "name": "stdout",
     "output_type": "stream",
     "text": [
      "Batch_100: 5/32............. Loss: 0.3002\n"
     ]
    },
    {
     "name": "stderr",
     "output_type": "stream",
     "text": [
      " 19%|██████████████▊                                                             | 2435/12500 [00:07<00:31, 316.47it/s]"
     ]
    },
    {
     "name": "stdout",
     "output_type": "stream",
     "text": [
      "Batch_100: 6/32............. Loss: 0.4769\n"
     ]
    },
    {
     "name": "stderr",
     "output_type": "stream",
     "text": [
      " 23%|█████████████████▏                                                          | 2831/12500 [00:08<00:31, 309.82it/s]"
     ]
    },
    {
     "name": "stdout",
     "output_type": "stream",
     "text": [
      "Batch_100: 7/32............. Loss: 0.5348\n"
     ]
    },
    {
     "name": "stderr",
     "output_type": "stream",
     "text": [
      " 26%|███████████████████▊                                                        | 3257/12500 [00:10<00:30, 300.62it/s]"
     ]
    },
    {
     "name": "stdout",
     "output_type": "stream",
     "text": [
      "Batch_100: 8/32............. Loss: 0.6677\n"
     ]
    },
    {
     "name": "stderr",
     "output_type": "stream",
     "text": [
      " 29%|██████████████████████                                                      | 3638/12500 [00:11<00:27, 316.66it/s]"
     ]
    },
    {
     "name": "stdout",
     "output_type": "stream",
     "text": [
      "Batch_100: 9/32............. Loss: 0.6096\n"
     ]
    },
    {
     "name": "stderr",
     "output_type": "stream",
     "text": [
      " 33%|████████████████████████▋                                                   | 4065/12500 [00:12<00:25, 326.22it/s]"
     ]
    },
    {
     "name": "stdout",
     "output_type": "stream",
     "text": [
      "Batch_100: 10/32............. Loss: 0.6595\n"
     ]
    },
    {
     "name": "stderr",
     "output_type": "stream",
     "text": [
      " 36%|███████████████████████████                                                 | 4460/12500 [00:14<00:25, 314.65it/s]"
     ]
    },
    {
     "name": "stdout",
     "output_type": "stream",
     "text": [
      "Batch_100: 11/32............. Loss: 0.4999\n"
     ]
    },
    {
     "name": "stderr",
     "output_type": "stream",
     "text": [
      " 39%|█████████████████████████████▌                                              | 4860/12500 [00:15<00:24, 311.60it/s]"
     ]
    },
    {
     "name": "stdout",
     "output_type": "stream",
     "text": [
      "Batch_100: 12/32............. Loss: 0.6184\n"
     ]
    },
    {
     "name": "stderr",
     "output_type": "stream",
     "text": [
      " 42%|███████████████████████████████▉                                            | 5249/12500 [00:16<00:22, 318.74it/s]"
     ]
    },
    {
     "name": "stdout",
     "output_type": "stream",
     "text": [
      "Batch_100: 13/32............. Loss: 0.3027\n"
     ]
    },
    {
     "name": "stderr",
     "output_type": "stream",
     "text": [
      " 45%|██████████████████████████████████▎                                         | 5641/12500 [00:17<00:21, 311.94it/s]"
     ]
    },
    {
     "name": "stdout",
     "output_type": "stream",
     "text": [
      "Batch_100: 14/32............. Loss: 0.3921\n"
     ]
    },
    {
     "name": "stderr",
     "output_type": "stream",
     "text": [
      " 48%|████████████████████████████████████▋                                       | 6042/12500 [00:19<00:20, 320.32it/s]"
     ]
    },
    {
     "name": "stdout",
     "output_type": "stream",
     "text": [
      "Batch_100: 15/32............. Loss: 0.6628\n"
     ]
    },
    {
     "name": "stderr",
     "output_type": "stream",
     "text": [
      " 52%|███████████████████████████████████████▏                                    | 6440/12500 [00:20<00:19, 310.39it/s]"
     ]
    },
    {
     "name": "stdout",
     "output_type": "stream",
     "text": [
      "Batch_100: 16/32............. Loss: 1.3488\n"
     ]
    },
    {
     "name": "stderr",
     "output_type": "stream",
     "text": [
      " 55%|█████████████████████████████████████████▌                                  | 6846/12500 [00:21<00:16, 334.28it/s]"
     ]
    },
    {
     "name": "stdout",
     "output_type": "stream",
     "text": [
      "Batch_100: 17/32............. Loss: 0.1298\n"
     ]
    },
    {
     "name": "stderr",
     "output_type": "stream",
     "text": [
      " 58%|████████████████████████████████████████████                                | 7239/12500 [00:22<00:17, 297.46it/s]"
     ]
    },
    {
     "name": "stdout",
     "output_type": "stream",
     "text": [
      "Batch_100: 18/32............. Loss: 0.7210\n"
     ]
    },
    {
     "name": "stderr",
     "output_type": "stream",
     "text": [
      " 61%|██████████████████████████████████████████████▌                             | 7655/12500 [00:24<00:15, 314.29it/s]"
     ]
    },
    {
     "name": "stdout",
     "output_type": "stream",
     "text": [
      "Batch_100: 19/32............. Loss: 1.1517\n"
     ]
    },
    {
     "name": "stderr",
     "output_type": "stream",
     "text": [
      " 64%|████████████████████████████████████████████████▉                           | 8045/12500 [00:25<00:13, 319.20it/s]"
     ]
    },
    {
     "name": "stdout",
     "output_type": "stream",
     "text": [
      "Batch_100: 20/32............. Loss: 0.6548\n"
     ]
    },
    {
     "name": "stderr",
     "output_type": "stream",
     "text": [
      " 68%|███████████████████████████████████████████████████▍                        | 8451/12500 [00:26<00:12, 319.48it/s]"
     ]
    },
    {
     "name": "stdout",
     "output_type": "stream",
     "text": [
      "Batch_100: 21/32............. Loss: 0.2363\n"
     ]
    },
    {
     "name": "stderr",
     "output_type": "stream",
     "text": [
      " 71%|█████████████████████████████████████████████████████▊                      | 8847/12500 [00:27<00:11, 328.70it/s]"
     ]
    },
    {
     "name": "stdout",
     "output_type": "stream",
     "text": [
      "Batch_100: 22/32............. Loss: 1.5651\n"
     ]
    },
    {
     "name": "stderr",
     "output_type": "stream",
     "text": [
      " 74%|████████████████████████████████████████████████████████▏                   | 9242/12500 [00:29<00:10, 314.78it/s]"
     ]
    },
    {
     "name": "stdout",
     "output_type": "stream",
     "text": [
      "Batch_100: 23/32............. Loss: 0.3300\n"
     ]
    },
    {
     "name": "stderr",
     "output_type": "stream",
     "text": [
      " 77%|██████████████████████████████████████████████████████████▌                 | 9635/12500 [00:30<00:09, 313.28it/s]"
     ]
    },
    {
     "name": "stdout",
     "output_type": "stream",
     "text": [
      "Batch_100: 24/32............. Loss: 0.3474\n"
     ]
    },
    {
     "name": "stderr",
     "output_type": "stream",
     "text": [
      " 80%|████████████████████████████████████████████████████████████▎              | 10060/12500 [00:31<00:07, 306.85it/s]"
     ]
    },
    {
     "name": "stdout",
     "output_type": "stream",
     "text": [
      "Batch_100: 25/32............. Loss: 0.3420\n"
     ]
    },
    {
     "name": "stderr",
     "output_type": "stream",
     "text": [
      " 84%|██████████████████████████████████████████████████████████████▋            | 10447/12500 [00:33<00:06, 319.44it/s]"
     ]
    },
    {
     "name": "stdout",
     "output_type": "stream",
     "text": [
      "Batch_100: 26/32............. Loss: 0.4919\n"
     ]
    },
    {
     "name": "stderr",
     "output_type": "stream",
     "text": [
      " 87%|█████████████████████████████████████████████████████████████████          | 10839/12500 [00:34<00:05, 312.32it/s]"
     ]
    },
    {
     "name": "stdout",
     "output_type": "stream",
     "text": [
      "Batch_100: 27/32............. Loss: 0.2809\n"
     ]
    },
    {
     "name": "stderr",
     "output_type": "stream",
     "text": [
      " 90%|███████████████████████████████████████████████████████████████████▌       | 11263/12500 [00:35<00:04, 308.29it/s]"
     ]
    },
    {
     "name": "stdout",
     "output_type": "stream",
     "text": [
      "Batch_100: 28/32............. Loss: 0.3681\n"
     ]
    },
    {
     "name": "stderr",
     "output_type": "stream",
     "text": [
      " 93%|█████████████████████████████████████████████████████████████████████▊     | 11629/12500 [00:36<00:02, 318.22it/s]"
     ]
    },
    {
     "name": "stdout",
     "output_type": "stream",
     "text": [
      "Batch_100: 29/32............. Loss: 1.2612\n"
     ]
    },
    {
     "name": "stderr",
     "output_type": "stream",
     "text": [
      " 97%|████████████████████████████████████████████████████████████████████████▍  | 12067/12500 [00:38<00:01, 322.88it/s]"
     ]
    },
    {
     "name": "stdout",
     "output_type": "stream",
     "text": [
      "Batch_100: 30/32............. Loss: 0.2829\n"
     ]
    },
    {
     "name": "stderr",
     "output_type": "stream",
     "text": [
      " 99%|██████████████████████████████████████████████████████████████████████████▌| 12432/12500 [00:39<00:00, 332.65it/s]"
     ]
    },
    {
     "name": "stdout",
     "output_type": "stream",
     "text": [
      "Batch_100: 31/32............. Loss: 0.3670\n"
     ]
    },
    {
     "name": "stderr",
     "output_type": "stream",
     "text": [
      "100%|███████████████████████████████████████████████████████████████████████████| 12500/12500 [00:39<00:00, 315.78it/s]\n",
      "  0%|▎                                                                             | 60/12500 [00:00<00:41, 297.38it/s]"
     ]
    },
    {
     "name": "stdout",
     "output_type": "stream",
     "text": [
      "Batch_100: 0/32............. Loss: 0.1877\n"
     ]
    },
    {
     "name": "stderr",
     "output_type": "stream",
     "text": [
      "  4%|██▋                                                                          | 445/12500 [00:01<00:38, 316.52it/s]"
     ]
    },
    {
     "name": "stdout",
     "output_type": "stream",
     "text": [
      "Batch_100: 1/32............. Loss: 0.2123\n"
     ]
    },
    {
     "name": "stderr",
     "output_type": "stream",
     "text": [
      "  7%|█████▎                                                                       | 858/12500 [00:02<00:36, 318.47it/s]"
     ]
    },
    {
     "name": "stdout",
     "output_type": "stream",
     "text": [
      "Batch_100: 2/32............. Loss: 0.7285\n"
     ]
    },
    {
     "name": "stderr",
     "output_type": "stream",
     "text": [
      " 10%|███████▌                                                                    | 1251/12500 [00:03<00:35, 319.98it/s]"
     ]
    },
    {
     "name": "stdout",
     "output_type": "stream",
     "text": [
      "Batch_100: 3/32............. Loss: 1.0100\n"
     ]
    },
    {
     "name": "stderr",
     "output_type": "stream",
     "text": [
      " 13%|██████████                                                                  | 1649/12500 [00:05<00:34, 311.93it/s]"
     ]
    },
    {
     "name": "stdout",
     "output_type": "stream",
     "text": [
      "Batch_100: 4/32............. Loss: 0.2344\n"
     ]
    },
    {
     "name": "stderr",
     "output_type": "stream",
     "text": [
      " 16%|████████████▍                                                               | 2040/12500 [00:06<00:32, 319.89it/s]"
     ]
    },
    {
     "name": "stdout",
     "output_type": "stream",
     "text": [
      "Batch_100: 5/32............. Loss: 1.3226\n"
     ]
    },
    {
     "name": "stderr",
     "output_type": "stream",
     "text": [
      " 20%|██████████████▉                                                             | 2453/12500 [00:07<00:30, 332.74it/s]"
     ]
    },
    {
     "name": "stdout",
     "output_type": "stream",
     "text": [
      "Batch_100: 6/32............. Loss: 0.5688\n"
     ]
    },
    {
     "name": "stderr",
     "output_type": "stream",
     "text": [
      " 23%|█████████████████▍                                                          | 2858/12500 [00:08<00:30, 318.56it/s]"
     ]
    },
    {
     "name": "stdout",
     "output_type": "stream",
     "text": [
      "Batch_100: 7/32............. Loss: 0.3075\n"
     ]
    },
    {
     "name": "stderr",
     "output_type": "stream",
     "text": [
      " 26%|███████████████████▊                                                        | 3258/12500 [00:10<00:28, 324.11it/s]"
     ]
    },
    {
     "name": "stdout",
     "output_type": "stream",
     "text": [
      "Batch_100: 8/32............. Loss: 1.1262\n"
     ]
    },
    {
     "name": "stderr",
     "output_type": "stream",
     "text": [
      " 29%|██████████████████████                                                      | 3629/12500 [00:11<00:28, 315.97it/s]"
     ]
    },
    {
     "name": "stdout",
     "output_type": "stream",
     "text": [
      "Batch_100: 9/32............. Loss: 0.2051\n"
     ]
    },
    {
     "name": "stderr",
     "output_type": "stream",
     "text": [
      " 33%|████████████████████████▋                                                   | 4064/12500 [00:12<00:25, 327.53it/s]"
     ]
    },
    {
     "name": "stdout",
     "output_type": "stream",
     "text": [
      "Batch_100: 10/32............. Loss: 0.0742\n"
     ]
    },
    {
     "name": "stderr",
     "output_type": "stream",
     "text": [
      " 35%|██████████████████████████▉                                                 | 4436/12500 [00:13<00:24, 328.00it/s]"
     ]
    },
    {
     "name": "stdout",
     "output_type": "stream",
     "text": [
      "Batch_100: 11/32............. Loss: 0.7173\n"
     ]
    },
    {
     "name": "stderr",
     "output_type": "stream",
     "text": [
      " 39%|█████████████████████████████▍                                              | 4832/12500 [00:15<00:23, 329.02it/s]"
     ]
    },
    {
     "name": "stdout",
     "output_type": "stream",
     "text": [
      "Batch_100: 12/32............. Loss: 0.3083\n"
     ]
    },
    {
     "name": "stderr",
     "output_type": "stream",
     "text": [
      " 42%|███████████████████████████████▊                                            | 5234/12500 [00:16<00:22, 321.95it/s]"
     ]
    },
    {
     "name": "stdout",
     "output_type": "stream",
     "text": [
      "Batch_100: 13/32............. Loss: 0.6693\n"
     ]
    },
    {
     "name": "stderr",
     "output_type": "stream",
     "text": [
      " 45%|██████████████████████████████████▍                                         | 5659/12500 [00:17<00:21, 316.28it/s]"
     ]
    },
    {
     "name": "stdout",
     "output_type": "stream",
     "text": [
      "Batch_100: 14/32............. Loss: 0.1696\n"
     ]
    },
    {
     "name": "stderr",
     "output_type": "stream",
     "text": [
      " 49%|████████████████████████████████████▉                                       | 6069/12500 [00:18<00:19, 330.88it/s]"
     ]
    },
    {
     "name": "stdout",
     "output_type": "stream",
     "text": [
      "Batch_100: 15/32............. Loss: 0.8817\n"
     ]
    },
    {
     "name": "stderr",
     "output_type": "stream",
     "text": [
      " 51%|███████████████████████████████████████                                     | 6430/12500 [00:20<00:19, 308.68it/s]"
     ]
    },
    {
     "name": "stdout",
     "output_type": "stream",
     "text": [
      "Batch_100: 16/32............. Loss: 0.2656\n"
     ]
    },
    {
     "name": "stderr",
     "output_type": "stream",
     "text": [
      " 55%|█████████████████████████████████████████▋                                  | 6853/12500 [00:21<00:18, 307.53it/s]"
     ]
    },
    {
     "name": "stdout",
     "output_type": "stream",
     "text": [
      "Batch_100: 17/32............. Loss: 0.7059\n"
     ]
    },
    {
     "name": "stderr",
     "output_type": "stream",
     "text": [
      " 58%|████████████████████████████████████████████                                | 7253/12500 [00:22<00:15, 329.22it/s]"
     ]
    },
    {
     "name": "stdout",
     "output_type": "stream",
     "text": [
      "Batch_100: 18/32............. Loss: 0.0473\n"
     ]
    },
    {
     "name": "stderr",
     "output_type": "stream",
     "text": [
      " 61%|██████████████████████████████████████████████▌                             | 7661/12500 [00:23<00:14, 334.78it/s]"
     ]
    },
    {
     "name": "stdout",
     "output_type": "stream",
     "text": [
      "Batch_100: 19/32............. Loss: 0.2234\n"
     ]
    },
    {
     "name": "stderr",
     "output_type": "stream",
     "text": [
      " 64%|████████████████████████████████████████████████▉                           | 8053/12500 [00:25<00:13, 320.05it/s]"
     ]
    },
    {
     "name": "stdout",
     "output_type": "stream",
     "text": [
      "Batch_100: 20/32............. Loss: 0.0645\n"
     ]
    },
    {
     "name": "stderr",
     "output_type": "stream",
     "text": [
      " 68%|███████████████████████████████████████████████████▍                        | 8453/12500 [00:26<00:13, 309.55it/s]"
     ]
    },
    {
     "name": "stdout",
     "output_type": "stream",
     "text": [
      "Batch_100: 21/32............. Loss: 0.8884\n"
     ]
    },
    {
     "name": "stderr",
     "output_type": "stream",
     "text": [
      " 71%|█████████████████████████████████████████████████████▊                      | 8861/12500 [00:27<00:10, 334.49it/s]"
     ]
    },
    {
     "name": "stdout",
     "output_type": "stream",
     "text": [
      "Batch_100: 22/32............. Loss: 0.3930\n"
     ]
    },
    {
     "name": "stderr",
     "output_type": "stream",
     "text": [
      " 74%|████████████████████████████████████████████████████████▎                   | 9265/12500 [00:28<00:09, 326.14it/s]"
     ]
    },
    {
     "name": "stdout",
     "output_type": "stream",
     "text": [
      "Batch_100: 23/32............. Loss: 0.4252\n"
     ]
    },
    {
     "name": "stderr",
     "output_type": "stream",
     "text": [
      " 77%|██████████████████████████████████████████████████████████▊                 | 9664/12500 [00:30<00:08, 324.12it/s]"
     ]
    },
    {
     "name": "stdout",
     "output_type": "stream",
     "text": [
      "Batch_100: 24/32............. Loss: 0.5036\n"
     ]
    },
    {
     "name": "stderr",
     "output_type": "stream",
     "text": [
      " 80%|████████████████████████████████████████████████████████████▏              | 10041/12500 [00:31<00:07, 325.12it/s]"
     ]
    },
    {
     "name": "stdout",
     "output_type": "stream",
     "text": [
      "Batch_100: 25/32............. Loss: 0.3946\n"
     ]
    },
    {
     "name": "stderr",
     "output_type": "stream",
     "text": [
      " 84%|██████████████████████████████████████████████████████████████▋            | 10445/12500 [00:32<00:06, 321.30it/s]"
     ]
    },
    {
     "name": "stdout",
     "output_type": "stream",
     "text": [
      "Batch_100: 26/32............. Loss: 0.4747\n"
     ]
    },
    {
     "name": "stderr",
     "output_type": "stream",
     "text": [
      " 87%|█████████████████████████████████████████████████████████████████▏         | 10861/12500 [00:33<00:04, 329.05it/s]"
     ]
    },
    {
     "name": "stdout",
     "output_type": "stream",
     "text": [
      "Batch_100: 27/32............. Loss: 0.1995\n"
     ]
    },
    {
     "name": "stderr",
     "output_type": "stream",
     "text": [
      " 90%|███████████████████████████████████████████████████████████████████▌       | 11256/12500 [00:35<00:04, 309.16it/s]"
     ]
    },
    {
     "name": "stdout",
     "output_type": "stream",
     "text": [
      "Batch_100: 28/32............. Loss: 1.6491\n"
     ]
    },
    {
     "name": "stderr",
     "output_type": "stream",
     "text": [
      " 93%|█████████████████████████████████████████████████████████████████████▊     | 11645/12500 [00:36<00:02, 335.60it/s]"
     ]
    },
    {
     "name": "stdout",
     "output_type": "stream",
     "text": [
      "Batch_100: 29/32............. Loss: 0.7601\n"
     ]
    },
    {
     "name": "stderr",
     "output_type": "stream",
     "text": [
      " 96%|████████████████████████████████████████████████████████████████████████▎  | 12054/12500 [00:37<00:01, 320.42it/s]"
     ]
    },
    {
     "name": "stdout",
     "output_type": "stream",
     "text": [
      "Batch_100: 30/32............. Loss: 0.4131\n"
     ]
    },
    {
     "name": "stderr",
     "output_type": "stream",
     "text": [
      "100%|██████████████████████████████████████████████████████████████████████████▋| 12448/12500 [00:38<00:00, 325.31it/s]"
     ]
    },
    {
     "name": "stdout",
     "output_type": "stream",
     "text": [
      "Batch_100: 31/32............. Loss: 0.3317\n"
     ]
    },
    {
     "name": "stderr",
     "output_type": "stream",
     "text": [
      "100%|███████████████████████████████████████████████████████████████████████████| 12500/12500 [00:39<00:00, 320.41it/s]\n",
      "  0%|▏                                                                             | 31/12500 [00:00<00:40, 308.06it/s]"
     ]
    },
    {
     "name": "stdout",
     "output_type": "stream",
     "text": [
      "Batch_100: 0/32............. Loss: 0.3986\n"
     ]
    },
    {
     "name": "stderr",
     "output_type": "stream",
     "text": [
      "  4%|██▊                                                                          | 462/12500 [00:01<00:38, 313.64it/s]"
     ]
    },
    {
     "name": "stdout",
     "output_type": "stream",
     "text": [
      "Batch_100: 1/32............. Loss: 0.5850\n"
     ]
    },
    {
     "name": "stderr",
     "output_type": "stream",
     "text": [
      "  7%|█████▎                                                                       | 871/12500 [00:02<00:34, 336.14it/s]"
     ]
    },
    {
     "name": "stdout",
     "output_type": "stream",
     "text": [
      "Batch_100: 2/32............. Loss: 0.9707\n"
     ]
    },
    {
     "name": "stderr",
     "output_type": "stream",
     "text": [
      " 10%|███████▌                                                                    | 1247/12500 [00:03<00:34, 323.69it/s]"
     ]
    },
    {
     "name": "stdout",
     "output_type": "stream",
     "text": [
      "Batch_100: 3/32............. Loss: 0.3553\n"
     ]
    },
    {
     "name": "stderr",
     "output_type": "stream",
     "text": [
      " 13%|██████████                                                                  | 1648/12500 [00:05<00:33, 324.18it/s]"
     ]
    },
    {
     "name": "stdout",
     "output_type": "stream",
     "text": [
      "Batch_100: 4/32............. Loss: 0.5071\n"
     ]
    },
    {
     "name": "stderr",
     "output_type": "stream",
     "text": [
      " 16%|████████████▍                                                               | 2048/12500 [00:06<00:34, 301.36it/s]"
     ]
    },
    {
     "name": "stdout",
     "output_type": "stream",
     "text": [
      "Batch_100: 5/32............. Loss: 0.6644\n"
     ]
    },
    {
     "name": "stderr",
     "output_type": "stream",
     "text": [
      " 20%|██████████████▊                                                             | 2443/12500 [00:07<00:32, 312.45it/s]"
     ]
    },
    {
     "name": "stdout",
     "output_type": "stream",
     "text": [
      "Batch_100: 6/32............. Loss: 0.3106\n"
     ]
    },
    {
     "name": "stderr",
     "output_type": "stream",
     "text": [
      " 23%|█████████████████▎                                                          | 2838/12500 [00:08<00:31, 311.03it/s]"
     ]
    },
    {
     "name": "stdout",
     "output_type": "stream",
     "text": [
      "Batch_100: 7/32............. Loss: 0.2882\n"
     ]
    },
    {
     "name": "stderr",
     "output_type": "stream",
     "text": [
      " 26%|███████████████████▊                                                        | 3254/12500 [00:10<00:31, 293.48it/s]"
     ]
    },
    {
     "name": "stdout",
     "output_type": "stream",
     "text": [
      "Batch_100: 8/32............. Loss: 1.1956\n"
     ]
    },
    {
     "name": "stderr",
     "output_type": "stream",
     "text": [
      " 29%|██████████████████████▏                                                     | 3641/12500 [00:11<00:28, 315.40it/s]"
     ]
    },
    {
     "name": "stdout",
     "output_type": "stream",
     "text": [
      "Batch_100: 9/32............. Loss: 0.8620\n"
     ]
    },
    {
     "name": "stderr",
     "output_type": "stream",
     "text": [
      " 32%|████████████████████████▌                                                   | 4042/12500 [00:12<00:27, 309.52it/s]"
     ]
    },
    {
     "name": "stdout",
     "output_type": "stream",
     "text": [
      "Batch_100: 10/32............. Loss: 0.5051\n"
     ]
    },
    {
     "name": "stderr",
     "output_type": "stream",
     "text": [
      " 35%|██████████████████████████▉                                                 | 4428/12500 [00:13<00:25, 320.58it/s]"
     ]
    },
    {
     "name": "stdout",
     "output_type": "stream",
     "text": [
      "Batch_100: 11/32............. Loss: 1.0549\n"
     ]
    },
    {
     "name": "stderr",
     "output_type": "stream",
     "text": [
      " 39%|█████████████████████████████▌                                              | 4859/12500 [00:15<00:24, 309.53it/s]"
     ]
    },
    {
     "name": "stdout",
     "output_type": "stream",
     "text": [
      "Batch_100: 12/32............. Loss: 0.6287\n"
     ]
    },
    {
     "name": "stderr",
     "output_type": "stream",
     "text": [
      " 42%|███████████████████████████████▉                                            | 5255/12500 [00:16<00:23, 306.50it/s]"
     ]
    },
    {
     "name": "stdout",
     "output_type": "stream",
     "text": [
      "Batch_100: 13/32............. Loss: 1.0018\n"
     ]
    },
    {
     "name": "stderr",
     "output_type": "stream",
     "text": [
      " 45%|██████████████████████████████████▍                                         | 5661/12500 [00:17<00:20, 339.85it/s]"
     ]
    },
    {
     "name": "stdout",
     "output_type": "stream",
     "text": [
      "Batch_100: 14/32............. Loss: 0.5568\n"
     ]
    },
    {
     "name": "stderr",
     "output_type": "stream",
     "text": [
      " 48%|████████████████████████████████████▊                                       | 6057/12500 [00:19<00:20, 313.73it/s]"
     ]
    },
    {
     "name": "stdout",
     "output_type": "stream",
     "text": [
      "Batch_100: 15/32............. Loss: 0.6018\n"
     ]
    },
    {
     "name": "stderr",
     "output_type": "stream",
     "text": [
      " 52%|███████████████████████████████████████▎                                    | 6462/12500 [00:20<00:18, 326.06it/s]"
     ]
    },
    {
     "name": "stdout",
     "output_type": "stream",
     "text": [
      "Batch_100: 16/32............. Loss: 0.7278\n"
     ]
    },
    {
     "name": "stderr",
     "output_type": "stream",
     "text": [
      " 55%|█████████████████████████████████████████▌                                  | 6830/12500 [00:21<00:17, 327.32it/s]"
     ]
    },
    {
     "name": "stdout",
     "output_type": "stream",
     "text": [
      "Batch_100: 17/32............. Loss: 0.3736\n"
     ]
    },
    {
     "name": "stderr",
     "output_type": "stream",
     "text": [
      " 58%|████████████████████████████████████████████                                | 7241/12500 [00:22<00:18, 286.87it/s]"
     ]
    },
    {
     "name": "stdout",
     "output_type": "stream",
     "text": [
      "Batch_100: 18/32............. Loss: 1.7348\n"
     ]
    },
    {
     "name": "stderr",
     "output_type": "stream",
     "text": [
      " 61%|██████████████████████████████████████████████▌                             | 7657/12500 [00:24<00:16, 289.57it/s]"
     ]
    },
    {
     "name": "stdout",
     "output_type": "stream",
     "text": [
      "Batch_100: 19/32............. Loss: 1.2414\n"
     ]
    },
    {
     "name": "stderr",
     "output_type": "stream",
     "text": [
      " 64%|████████████████████████████████████████████████▉                           | 8041/12500 [00:25<00:14, 300.18it/s]"
     ]
    },
    {
     "name": "stdout",
     "output_type": "stream",
     "text": [
      "Batch_100: 20/32............. Loss: 0.4663\n"
     ]
    },
    {
     "name": "stderr",
     "output_type": "stream",
     "text": [
      " 67%|███████████████████████████████████████████████████▎                        | 8431/12500 [00:26<00:13, 294.93it/s]"
     ]
    },
    {
     "name": "stdout",
     "output_type": "stream",
     "text": [
      "Batch_100: 21/32............. Loss: 0.6044\n"
     ]
    },
    {
     "name": "stderr",
     "output_type": "stream",
     "text": [
      " 71%|█████████████████████████████████████████████████████▊                      | 8858/12500 [00:28<00:11, 320.43it/s]"
     ]
    },
    {
     "name": "stdout",
     "output_type": "stream",
     "text": [
      "Batch_100: 22/32............. Loss: 0.8490\n"
     ]
    },
    {
     "name": "stderr",
     "output_type": "stream",
     "text": [
      " 74%|████████████████████████████████████████████████████████▏                   | 9247/12500 [00:29<00:10, 307.08it/s]"
     ]
    },
    {
     "name": "stdout",
     "output_type": "stream",
     "text": [
      "Batch_100: 23/32............. Loss: 1.7096\n"
     ]
    },
    {
     "name": "stderr",
     "output_type": "stream",
     "text": [
      " 77%|██████████████████████████████████████████████████████████▌                 | 9640/12500 [00:30<00:09, 296.11it/s]"
     ]
    },
    {
     "name": "stdout",
     "output_type": "stream",
     "text": [
      "Batch_100: 24/32............. Loss: 0.7562\n"
     ]
    },
    {
     "name": "stderr",
     "output_type": "stream",
     "text": [
      " 81%|████████████████████████████████████████████████████████████▍              | 10070/12500 [00:32<00:07, 323.74it/s]"
     ]
    },
    {
     "name": "stdout",
     "output_type": "stream",
     "text": [
      "Batch_100: 25/32............. Loss: 0.3373\n"
     ]
    },
    {
     "name": "stderr",
     "output_type": "stream",
     "text": [
      " 83%|██████████████████████████████████████████████████████████████▌            | 10432/12500 [00:33<00:06, 295.53it/s]"
     ]
    },
    {
     "name": "stdout",
     "output_type": "stream",
     "text": [
      "Batch_100: 26/32............. Loss: 0.5613\n"
     ]
    },
    {
     "name": "stderr",
     "output_type": "stream",
     "text": [
      " 87%|█████████████████████████████████████████████████████████████████          | 10847/12500 [00:34<00:05, 298.15it/s]"
     ]
    },
    {
     "name": "stdout",
     "output_type": "stream",
     "text": [
      "Batch_100: 27/32............. Loss: 1.3585\n"
     ]
    },
    {
     "name": "stderr",
     "output_type": "stream",
     "text": [
      " 90%|███████████████████████████████████████████████████████████████████▍       | 11249/12500 [00:35<00:04, 308.47it/s]"
     ]
    },
    {
     "name": "stdout",
     "output_type": "stream",
     "text": [
      "Batch_100: 28/32............. Loss: 0.3739\n"
     ]
    },
    {
     "name": "stderr",
     "output_type": "stream",
     "text": [
      " 93%|█████████████████████████████████████████████████████████████████████▊     | 11636/12500 [00:37<00:02, 313.07it/s]"
     ]
    },
    {
     "name": "stdout",
     "output_type": "stream",
     "text": [
      "Batch_100: 29/32............. Loss: 0.2044\n"
     ]
    },
    {
     "name": "stderr",
     "output_type": "stream",
     "text": [
      " 96%|████████████████████████████████████████████████████████████████████████▏  | 12027/12500 [00:38<00:01, 288.14it/s]"
     ]
    },
    {
     "name": "stdout",
     "output_type": "stream",
     "text": [
      "Batch_100: 30/32............. Loss: 0.1615\n"
     ]
    },
    {
     "name": "stderr",
     "output_type": "stream",
     "text": [
      "100%|██████████████████████████████████████████████████████████████████████████▊| 12470/12500 [00:39<00:00, 317.31it/s]"
     ]
    },
    {
     "name": "stdout",
     "output_type": "stream",
     "text": [
      "Batch_100: 31/32............. Loss: 0.7788\n"
     ]
    },
    {
     "name": "stderr",
     "output_type": "stream",
     "text": [
      "100%|███████████████████████████████████████████████████████████████████████████| 12500/12500 [00:39<00:00, 312.81it/s]\n"
     ]
    }
   ],
   "source": [
    "data_len = len(dataloader)\n",
    "\n",
    "model.train()\n",
    "\n",
    "loss_array = []\n",
    "\n",
    "for epoch in range(1, n_epochs + 1):\n",
    "    for i, batch in tqdm(enumerate(dataloader), total=data_len):\n",
    "        optimizer.zero_grad()\n",
    "        output = model(batch[0].to(device))\n",
    "        output = output.to(device)\n",
    "        target_seq = batch[1].to(device)\n",
    "#         print(target_seq.view(-1).long().shape)\n",
    "#         print(output.shape)\n",
    "        loss = criterion(output, target_seq)\n",
    "        loss_array.append(loss.item())\n",
    "        loss.backward()\n",
    "        # TODO: google about usage\n",
    "        torch.nn.utils.clip_grad_norm_(model.parameters(), clip)\n",
    "        optimizer.step()\n",
    "        #scheduler.step()\n",
    "        if i%400 == 0:\n",
    "            print('Batch_100: {}/{}.............'.format(int(i/400), int(data_len/400) + 1), end=' ')\n",
    "            print(\"Loss: {:.4f}\".format(loss.item()))\n",
    "    model.save(f\"models{epoch}\")"
   ]
  },
  {
   "cell_type": "code",
   "execution_count": 38,
   "id": "85da90df",
   "metadata": {},
   "outputs": [
    {
     "data": {
      "image/png": "[encoded data removed]",
      "text/plain": [
       "<Figure size 640x480 with 1 Axes>"
      ]
     },
     "metadata": {},
     "output_type": "display_data"
    }
   ],
   "source": [
    "import matplotlib.pyplot as plt\n",
    "import numpy as np\n",
    "\n",
    "loss_array_smaller = [x for i, x in enumerate(loss_array) if i%400==0]\n",
    "\n",
    "fig, ax = plt.subplots()\n",
    "ax.plot(range(len(loss_array_smaller)), loss_array_smaller)\n",
    "\n",
    "ax.set(xlabel='batch', ylabel='loss',\n",
    "       title='Train loss function')\n",
    "ax.grid()\n",
    "\n",
    "fig.savefig(\"test_512_10_epochs_50k.png\")\n",
    "plt.show()"
   ]
  },
  {
   "cell_type": "code",
   "execution_count": 9,
   "id": "fd3214ee",
   "metadata": {},
   "outputs": [
    {
     "data": {
      "text/plain": [
       "MeanClassifier(\n",
       "  (embed): Embedding(1187688, 256, padding_idx=0)\n",
       "  (linear_hid1): Linear(in_features=256, out_features=128, bias=True)\n",
       "  (linear_hid2): Linear(in_features=128, out_features=128, bias=True)\n",
       "  (linear_hid3): Linear(in_features=128, out_features=128, bias=True)\n",
       "  (linear_out): Linear(in_features=128, out_features=3, bias=True)\n",
       ")"
      ]
     },
     "execution_count": 9,
     "metadata": {},
     "output_type": "execute_result"
    }
   ],
   "source": [
    "torch.cuda.empty_cache()\n",
    "\n",
    "load = \"models/\"\n",
    "\n",
    "with open(load+\"vocab.json\", 'r') as file:\n",
    "    char2int = json.load(file)\n",
    "    char2int['<PAD>'] = 0\n",
    "    int2char = {v:k for k,v in char2int.items()}\n",
    "model = MeanClassifier(vocab=char2int, emb_dim=256,\n",
    "                    hid_dim=128)\n",
    "model.load_state_dict(torch.load(load+\"model.pt\", map_location=device))\n",
    "model.to(device)"
   ]
  },
  {
   "cell_type": "code",
   "execution_count": 11,
   "id": "0003ffe6",
   "metadata": {},
   "outputs": [],
   "source": [
    "vocab = model.vocab"
   ]
  },
  {
   "cell_type": "code",
   "execution_count": 34,
   "id": "e5db67dd",
   "metadata": {},
   "outputs": [],
   "source": [
    "def predict(text, tokenizer=None, unk=\"<UNK>\"):\n",
    "    model.eval()\n",
    "    tokenizer = tokenizer or str.split\n",
    "    tokenized = tokenizer(text)\n",
    "    tokens = torch.tensor([[vocab.get(x, vocab[unk]) for x in tokenized]], device=device)\n",
    "    res = model(tokens)[0]\n",
    "    arg_to_name = {0: \"neutral\", 1: \"positive\", 2: \"negative\"}\n",
    "    return res, arg_to_name[res.argmax().item()]"
   ]
  },
  {
   "cell_type": "code",
   "execution_count": 44,
   "id": "cde3a445",
   "metadata": {},
   "outputs": [],
   "source": [
    "def predict_tokens(tokens_, tokenizer=None, unk=\"<UNK>\"):\n",
    "    model.eval()\n",
    "    tokens = tokens_[0][None, :].to(device)\n",
    "    res = model(tokens)[0]\n",
    "    arg_to_name = {0: \"neutral\", 1: \"positive\", 2: \"negative\"}\n",
    "    return res, arg_to_name[res.argmax().item()], arg_to_name[tokens_[1]]"
   ]
  },
  {
   "cell_type": "code",
   "execution_count": 19,
   "id": "11995f8f",
   "metadata": {},
   "outputs": [],
   "source": [
    "def predict_emb(text, tokenizer, unk=\"<unk>\"):\n",
    "    model.eval()\n",
    "    tokenizer = tokenizer or str.split\n",
    "    tokens = tokenizer(text).mean(0)[None, :].to(device)\n",
    "    res = model(tokens)\n",
    "    arg_to_name = {0: \"neutral\", 1: \"positive\", 2: \"negative\"}\n",
    "    return res, arg_to_name[res.argmax().item()]"
   ]
  },
  {
   "cell_type": "code",
   "execution_count": 20,
   "id": "96013f30",
   "metadata": {},
   "outputs": [],
   "source": [
    "def predict_emb_tokenized(dataset_input, unk=\"<unk>\"):\n",
    "    model.eval()\n",
    "    tokens = dataset_input[0][None, :].to(device)\n",
    "    res = model(tokens)\n",
    "    arg_to_name = {0: \"neutral\", 1: \"positive\", 2: \"negative\"}\n",
    "    return res, arg_to_name[res.argmax().item()], arg_to_name[dataset_input[1]]"
   ]
  },
  {
   "cell_type": "code",
   "execution_count": 21,
   "id": "e4fe9f7f",
   "metadata": {},
   "outputs": [
    {
     "data": {
      "text/plain": [
       "(tensor([[-0.7414,  0.4673, -0.3371]], device='cuda:0',\n",
       "        grad_fn=<AddmmBackward0>),\n",
       " 'positive',\n",
       " 'positive')"
      ]
     },
     "execution_count": 21,
     "metadata": {},
     "output_type": "execute_result"
    }
   ],
   "source": [
    "predict_emb_tokenized(dataset[0])"
   ]
  },
  {
   "cell_type": "code",
   "execution_count": 22,
   "id": "d84a1330",
   "metadata": {
    "collapsed": true
   },
   "outputs": [
    {
     "ename": "NameError",
     "evalue": "name 'df' is not defined",
     "output_type": "error",
     "traceback": [
      "\u001b[1;31m---------------------------------------------------------------------------\u001b[0m",
      "\u001b[1;31mNameError\u001b[0m                                 Traceback (most recent call last)",
      "Cell \u001b[1;32mIn[22], line 3\u001b[0m\n\u001b[0;32m      1\u001b[0m df_id \u001b[38;5;241m=\u001b[39m \u001b[38;5;241m30010\u001b[39m\n\u001b[0;32m      2\u001b[0m arg_to_name \u001b[38;5;241m=\u001b[39m {\u001b[38;5;241m0\u001b[39m: \u001b[38;5;124m\"\u001b[39m\u001b[38;5;124mneutral\u001b[39m\u001b[38;5;124m\"\u001b[39m, \u001b[38;5;241m1\u001b[39m: \u001b[38;5;124m\"\u001b[39m\u001b[38;5;124mpositive\u001b[39m\u001b[38;5;124m\"\u001b[39m, \u001b[38;5;241m2\u001b[39m: \u001b[38;5;124m\"\u001b[39m\u001b[38;5;124mnegative\u001b[39m\u001b[38;5;124m\"\u001b[39m}\n\u001b[1;32m----> 3\u001b[0m res \u001b[38;5;241m=\u001b[39m predict_emb(\u001b[43mdf\u001b[49m[\u001b[38;5;124m'\u001b[39m\u001b[38;5;124mtext\u001b[39m\u001b[38;5;124m'\u001b[39m][df_id], tokenizer)\n\u001b[0;32m      5\u001b[0m \u001b[38;5;28mprint\u001b[39m(df[\u001b[38;5;124m'\u001b[39m\u001b[38;5;124mtext\u001b[39m\u001b[38;5;124m'\u001b[39m][df_id])\n\u001b[0;32m      6\u001b[0m \u001b[38;5;28mprint\u001b[39m(\u001b[38;5;124m\"\u001b[39m\u001b[38;5;124m-\u001b[39m\u001b[38;5;124m\"\u001b[39m\u001b[38;5;241m*\u001b[39m\u001b[38;5;241m100\u001b[39m)\n",
      "\u001b[1;31mNameError\u001b[0m: name 'df' is not defined"
     ]
    }
   ],
   "source": [
    "df_id = 30010\n",
    "arg_to_name = {0: \"neutral\", 1: \"positive\", 2: \"negative\"}\n",
    "res = predict_emb(df['text'][df_id], tokenizer)\n",
    "\n",
    "print(df['text'][df_id])\n",
    "print(\"-\"*100)\n",
    "print(\"Original: \", arg_to_name[df['sentiment'][df_id]])\n",
    "print(\"Predicted: \", res[1])\n",
    "print(\"Logits: \", res[0])"
   ]
  },
  {
   "cell_type": "code",
   "execution_count": 48,
   "id": "aaa7e8fa",
   "metadata": {
    "scrolled": true
   },
   "outputs": [],
   "source": [
    "# predict(dataset[0][0])"
   ]
  },
  {
   "cell_type": "code",
   "execution_count": 49,
   "id": "4bf8ea0c",
   "metadata": {},
   "outputs": [],
   "source": [
    "# predict_tokens(dataset[0])"
   ]
  },
  {
   "cell_type": "code",
   "execution_count": 58,
   "id": "ab0dc4c1",
   "metadata": {},
   "outputs": [
    {
     "name": "stderr",
     "output_type": "stream",
     "text": [
      "100%|███████████████████████████████████████████████████████████████████████████| 20000/20000 [01:22<00:00, 243.88it/s]\n"
     ]
    }
   ],
   "source": [
    "from sklearn.metrics import f1_score, confusion_matrix\n",
    "\n",
    "res = []\n",
    "for x in tqdm(range(50000, 70000)):\n",
    "    res.append(predict_emb(df[\"text\"].iloc[x], tokenizer))"
   ]
  },
  {
   "cell_type": "code",
   "execution_count": 60,
   "id": "89239a16",
   "metadata": {},
   "outputs": [
    {
     "data": {
      "text/plain": [
       "array([[3713,  766,  891],\n",
       "       [ 358, 3119, 1627],\n",
       "       [ 641, 1437, 7448]], dtype=int64)"
      ]
     },
     "execution_count": 60,
     "metadata": {},
     "output_type": "execute_result"
    }
   ],
   "source": [
    "confusion_matrix([arg_to_name[x] for x in df['sentiment'].iloc[50000:70000]], [x[1] for x in res])"
   ]
  },
  {
   "cell_type": "code",
   "execution_count": 61,
   "id": "95a26e67",
   "metadata": {},
   "outputs": [
    {
     "data": {
      "text/plain": [
       "Counter({'positive': 9966, 'neutral': 5322, 'negative': 4712})"
      ]
     },
     "execution_count": 61,
     "metadata": {},
     "output_type": "execute_result"
    }
   ],
   "source": [
    "from collections import Counter\n",
    "Counter([x[1] for x in res])"
   ]
  },
  {
   "cell_type": "code",
   "execution_count": 63,
   "id": "6c27bf24",
   "metadata": {},
   "outputs": [
    {
     "data": {
      "text/plain": [
       "0.714"
      ]
     },
     "execution_count": 63,
     "metadata": {},
     "output_type": "execute_result"
    }
   ],
   "source": [
    "f1_score([arg_to_name[x] for x in df['sentiment'].iloc[50000:70000]], [x[1] for x in res], average=\"micro\")"
   ]
  },
  {
   "cell_type": "code",
   "execution_count": null,
   "id": "322fe344",
   "metadata": {},
   "outputs": [],
   "source": []
  }
 ],
 "metadata": {
  "kernelspec": {
   "display_name": "ml_kernel",
   "language": "python",
   "name": "ml_kernel"
  },
  "language_info": {
   "codemirror_mode": {
    "name": "ipython",
    "version": 3
   },
   "file_extension": ".py",
   "mimetype": "text/x-python",
   "name": "python",
   "nbconvert_exporter": "python",
   "pygments_lexer": "ipython3",
   "version": "3.10.9"
  }
 },
 "nbformat": 4,
 "nbformat_minor": 5
}
